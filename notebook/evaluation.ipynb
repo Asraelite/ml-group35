{
 "cells": [
  {
   "cell_type": "code",
   "execution_count": 41,
   "id": "23bf5bf0-1135-434a-88f3-d11d384121c7",
   "metadata": {},
   "outputs": [
    {
     "name": "stderr",
     "output_type": "stream",
     "text": [
      "[nltk_data] Downloading package stopwords to\n",
      "[nltk_data]     /Users/nelsonlim/nltk_data...\n",
      "[nltk_data]   Package stopwords is already up-to-date!\n"
     ]
    },
    {
     "data": {
      "text/plain": [
       "True"
      ]
     },
     "execution_count": 41,
     "metadata": {},
     "output_type": "execute_result"
    }
   ],
   "source": [
    "import pandas as pd\n",
    "import os\n",
    "import numpy as np\n",
    "import nltk\n",
    "from sklearn.feature_extraction.text import CountVectorizer \n",
    "from sklearn.model_selection import train_test_split\n",
    "from sklearn.model_selection import cross_val_score\n",
    "from sklearn.svm import LinearSVC\n",
    "from sklearn import metrics\n",
    "from sklearn.metrics import confusion_matrix, classification_report, f1_score, roc_curve, roc_auc_score\n",
    "from sklearn.dummy import DummyClassifier\n",
    "from nltk.stem import PorterStemmer\n",
    "import matplotlib.pyplot as plt\n",
    "import re\n",
    "from collections import Counter\n",
    "from sklearn.model_selection import KFold, train_test_split\n",
    "import numpy as np\n",
    "import pickle\n",
    "from numpy.random import seed\n",
    "from sklearn.linear_model import LogisticRegression\n",
    "seed(3)\n",
    "nltk.download('stopwords')"
   ]
  },
  {
   "cell_type": "code",
   "execution_count": 42,
   "id": "96625ebd-2733-43b1-b8fe-a9e56b9a98ba",
   "metadata": {},
   "outputs": [],
   "source": [
    "# change\n",
    "BINANCE_DIR = \"/Users/nelsonlim/Documents/Trinity College Dublin/Semester 1/Machine Learning/Assignment/Week 5/data/binance/processed/day_discrete\"\n",
    "TWITTER_DIR = \"/Users/nelsonlim/Documents/Trinity College Dublin/Semester 1/Machine Learning/Assignment/Week 5/data/twitter\"\n",
    "REDDIT_DIR = \"/Users/nelsonlim/Documents/Trinity College Dublin/Semester 1/Machine Learning/Assignment/Week 5/data/reddit\"\n",
    "\n",
    "TWITTER_FILE = \"twitter.csv\"\n",
    "REDDIT_FILE  = \"reddit.csv\"\n",
    "BINANCE_FILE = None\n",
    "\n",
    "FIGURE_DIR = \"/Users/nelsonlim/Documents/Trinity College Dublin/Semester 1/Machine Learning/Assignment/Week 5/notebook/img\"\n",
    "SAVE_FIG = False\n",
    "\n",
    "# SAVED MODELS & VARIABLES\n",
    "COUNT_VECTORISER_FILE = \"/Users/nelsonlim/Documents/Trinity College Dublin/Semester 1/Machine Learning/Assignment/Week 5/data/count_vectoriser.pkl\" # x\n",
    "COUNT_VECTORISER_VAR_FILE = \"/Users/nelsonlim/Documents/Trinity College Dublin/Semester 1/Machine Learning/Assignment/Week 5/data/count_vectoriser_var.pkl\" # vectorizer data\n",
    "SVM_FILE = \"/Users/nelsonlim/Documents/Trinity College Dublin/Semester 1/Machine Learning/Assignment/Week 5/data/SVM_model.pkl\"\n",
    "KNN_MODELS_CV_K = \"/Users/nelsonlim/Documents/Trinity College Dublin/Semester 1/Machine Learning/Assignment/Week 5/data/KNN_models_cv_k.pkl\"\n",
    "KNN_FILE = \"/Users/nelsonlim/Documents/Trinity College Dublin/Semester 1/Machine Learning/Assignment/Week 5/data/KNN_model.pkl\"\n",
    "\n",
    "LOGISTIC_FILE = \"/Users/nelsonlim/Documents/Trinity College Dublin/Semester 1/Machine Learning/Assignment/Week 5/data/Logistic_model.pkl\"\n",
    "LOGISTIC_MODELS_CV_C = \"/Users/nelsonlim/Documents/Trinity College Dublin/Semester 1/Machine Learning/Assignment/Week 5/data/logistic_models_cv_c.pkl\"\n",
    "\n",
    "# dont change\n",
    "BINANCE_EXTENSION = \"csv\"\n",
    "\n",
    "START_DATE = \"2018-01-01\"\n",
    "END_DATE = \"2021-10-31\""
   ]
  },
  {
   "cell_type": "code",
   "execution_count": 43,
   "id": "e868df5c-b0f7-4d06-8c7f-ab3ef39e4a50",
   "metadata": {},
   "outputs": [],
   "source": [
    "def concatenate_content_values(content_list):\n",
    "\treturn content_list.str.cat(sep=\" \")"
   ]
  },
  {
   "cell_type": "markdown",
   "id": "05924ca3-8297-4eb7-9ba6-7510378a5299",
   "metadata": {},
   "source": [
    "# Dataset"
   ]
  },
  {
   "cell_type": "markdown",
   "id": "ad6145c7-c0d1-4ab8-a33e-a90beb7b7eda",
   "metadata": {},
   "source": [
    "## Binance"
   ]
  },
  {
   "cell_type": "code",
   "execution_count": 44,
   "id": "5582b28b-0596-4c41-80f7-bbbeafda32a2",
   "metadata": {},
   "outputs": [],
   "source": [
    "if BINANCE_FILE is None:\n",
    "    # load binance data\n",
    "    df_binance_list = []\n",
    "    for filename in sorted(os.listdir(BINANCE_DIR)):\n",
    "        if filename.endswith(BINANCE_EXTENSION):\n",
    "            df_binance_list.append(pd.read_csv( os.path.join(BINANCE_DIR,filename)))\n",
    "    df_binance = pd.concat(df_binance_list,ignore_index=True)\n",
    "\n",
    "    # convert time to date obj\n",
    "    df_binance['time'] = pd.to_datetime(df_binance['time'])\n",
    "\n",
    "    # change index to time\n",
    "    df_binance = df_binance.set_index('time')\n",
    "\n",
    "    # filter date range\n",
    "    df_binance = df_binance.loc[START_DATE:END_DATE]\n",
    "else:    \n",
    "    # load binance data\n",
    "    df_binance = pd.read_csv(  os.path.join(BINANCE_DIR, BINANCE_FILE), lineterminator='\\n' )\n",
    "\n",
    "    # convert time to date obj\n",
    "    df_binance['time'] = pd.to_datetime(df_binance['time'])\n",
    "\n",
    "    # change index to time\n",
    "    df_binance = df_binance.set_index('time')\n",
    "\n",
    "    # filter date range\n",
    "    df_binance = df_binance.loc[START_DATE:END_DATE]"
   ]
  },
  {
   "cell_type": "code",
   "execution_count": 45,
   "id": "8a7dc44b-fb58-4732-b921-25180f740048",
   "metadata": {},
   "outputs": [],
   "source": [
    "price_mean = df_binance['price_mean']\n",
    "binance_time = df_binance.index.strftime(\"%m/%d/%y\").values\n",
    "plot_x = range(len(binance_time))"
   ]
  },
  {
   "cell_type": "code",
   "execution_count": 46,
   "id": "f5bed4a4-67a3-4d03-ac9c-8710706a48c8",
   "metadata": {},
   "outputs": [
    {
     "data": {
      "image/png": "[encoded data removed]",
      "text/plain": [
       "<Figure size 432x288 with 1 Axes>"
      ]
     },
     "metadata": {
      "needs_background": "light"
     },
     "output_type": "display_data"
    }
   ],
   "source": [
    "plt.plot(plot_x, price_mean)   \n",
    "plt.legend(['Ethereum'])\n",
    "plt.xlabel(\"Data Point\")\n",
    "plt.ylabel(\"Mean Price\")\n",
    "if SAVE_FIG:\n",
    "    plt.savefig(os.path.join(FIGURE_DIR,\"binance_mean_price\"))\n",
    "plt.show()    "
   ]
  },
  {
   "cell_type": "code",
   "execution_count": 47,
   "id": "55e04646-93a2-4867-8a6c-178796864e09",
   "metadata": {},
   "outputs": [
    {
     "data": {
      "image/png": "[encoded data removed]",
      "text/plain": [
       "<Figure size 432x288 with 1 Axes>"
      ]
     },
     "metadata": {
      "needs_background": "light"
     },
     "output_type": "display_data"
    }
   ],
   "source": [
    "labels = Counter(df_binance['label'].values)\n",
    "labels_keys = list(labels.keys())\n",
    "labels_values = list(labels.values())\n",
    "\n",
    "plt.bar(labels_keys, labels_values)\n",
    "plt.xticks(labels_keys)\n",
    "plt.legend(['Ethereum'])\n",
    "plt.xlabel(\"Label\")\n",
    "plt.ylabel(\"Count\")\n",
    "if SAVE_FIG:\n",
    "    plt.savefig(os.path.join(FIGURE_DIR,\"binance_label\"))\n",
    "plt.show()"
   ]
  },
  {
   "cell_type": "markdown",
   "id": "22aa2d34-f630-4e53-b7bf-43ee244e3036",
   "metadata": {},
   "source": [
    "## Reddit"
   ]
  },
  {
   "cell_type": "code",
   "execution_count": 48,
   "id": "62cf5506-c5c2-4325-b810-0ad40b199c9e",
   "metadata": {},
   "outputs": [],
   "source": [
    "# read reddit\n",
    "df_reddit = pd.read_csv(  os.path.join(REDDIT_DIR, REDDIT_FILE), lineterminator='\\n' )\n",
    "\n",
    "# convert to date obj\n",
    "df_reddit['date'] = pd.to_datetime(df_reddit['date'])\n",
    "\n",
    "# Join all reddit posts for each day into one big string\n",
    "df_reddit = df_reddit.groupby(\"date\").aggregate({\n",
    "    \"content\": concatenate_content_values,\n",
    "    \"popularity\" : \"sum\"\n",
    "})\n",
    "\n",
    "# filter date range\n",
    "df_reddit = df_reddit.loc[START_DATE:END_DATE]"
   ]
  },
  {
   "cell_type": "markdown",
   "id": "504001df-c52a-4efa-abab-7c4a14f56dc0",
   "metadata": {},
   "source": [
    "## Twitter"
   ]
  },
  {
   "cell_type": "code",
   "execution_count": 49,
   "id": "ebf67ab5-6d66-41c6-a48d-cc923b9c853e",
   "metadata": {},
   "outputs": [],
   "source": [
    "# load twitter data\n",
    "df_twitter = pd.read_csv( os.path.join(TWITTER_DIR, TWITTER_FILE), lineterminator=\"\\n\")\n",
    "\n",
    "# convert to date obj\n",
    "df_twitter['date'] = pd.to_datetime(df_twitter['date'])\n",
    "\n",
    "# Join all tweets for each day into one big string\n",
    "df_twitter = df_twitter.groupby(\"date\").aggregate({\n",
    "    \"content\": concatenate_content_values,\n",
    "    \"popularity\" : \"sum\"\n",
    "})\n",
    "\n",
    "# filter date range\n",
    "df_twitter = df_twitter.loc[START_DATE:END_DATE]"
   ]
  },
  {
   "cell_type": "code",
   "execution_count": 50,
   "id": "bcffe376-fec8-4baa-b867-9954d2b1b66e",
   "metadata": {},
   "outputs": [],
   "source": [
    "input_data = pd.concat([df_reddit,df_twitter]).groupby(\"date\").aggregate({\n",
    "    \"content\": concatenate_content_values,\n",
    "    \"popularity\" : \"sum\"\n",
    "})"
   ]
  },
  {
   "cell_type": "code",
   "execution_count": 51,
   "id": "947f2d97-c205-44df-be05-0f3a749b8985",
   "metadata": {},
   "outputs": [],
   "source": [
    "daily_content = input_data.content"
   ]
  },
  {
   "cell_type": "code",
   "execution_count": 71,
   "id": "baa594ed-0341-441c-bb28-b5dcf13a3c25",
   "metadata": {},
   "outputs": [
    {
     "data": {
      "text/plain": [
       "date\n",
       "2018-01-01    how you do it? i cant change the onboard to pc...\n",
       "2018-01-02    If you have nvidia experience, it'll prompt yo...\n",
       "2018-01-03    &gt; I'm getting pretty low hashrates on my ri...\n",
       "2018-01-04    http://brianford.tech/2017-10-10-etherMiningRi...\n",
       "2018-01-05    Currently I'm on wifi. I hear ethermine mines ...\n",
       "                                    ...                        \n",
       "2021-10-27    Oh that little thing on the wall is a fan on.\\...\n",
       "2021-10-28    Here are my OC and voltage settings for my FE_...\n",
       "2021-10-29    I have 6 hynix memory 3060ti’s that say otherw...\n",
       "2021-10-30    ROI is equally sentimental and doesn’t pertain...\n",
       "2021-10-31    Whattomine will tell you better than anyone on...\n",
       "Name: content, Length: 1400, dtype: object"
      ]
     },
     "execution_count": 71,
     "metadata": {},
     "output_type": "execute_result"
    }
   ],
   "source": [
    "daily_content"
   ]
  },
  {
   "cell_type": "markdown",
   "id": "90d4f99c-006b-44f4-a970-dc85ff6d19a7",
   "metadata": {},
   "source": [
    "# Preprocess Data"
   ]
  },
  {
   "cell_type": "code",
   "execution_count": 52,
   "id": "b1e9ff81-6161-4937-83e0-46246010d7c6",
   "metadata": {},
   "outputs": [
    {
     "data": {
      "text/plain": [
       "0"
      ]
     },
     "execution_count": 52,
     "metadata": {},
     "output_type": "execute_result"
    }
   ],
   "source": [
    "# check if there exist any empty column\n",
    "daily_content.isna().sum()"
   ]
  },
  {
   "cell_type": "markdown",
   "id": "868122be-e3e3-4b7d-8b4e-8b6f205c2219",
   "metadata": {},
   "source": [
    "## Prunning"
   ]
  },
  {
   "cell_type": "code",
   "execution_count": 53,
   "id": "9e461365-449c-4dab-9053-cc5d27e1be85",
   "metadata": {},
   "outputs": [],
   "source": [
    "stemmer = PorterStemmer()\n",
    "\n",
    "# Adding stemmming with CountVectorizer\n",
    "# https://stackoverflow.com/questions/36182502/add-stemming-support-to-countvectorizer-sklearn\n",
    "analyzer = CountVectorizer().build_analyzer()\n",
    "def stemmed_words(doc):\n",
    "    words = []\n",
    "    for w in analyzer(doc):\n",
    "        \n",
    "        # remove words with number\n",
    "        if len(re.findall('\\d+', w)) > 0:\n",
    "            continue\n",
    "        \n",
    "        # only english letters\n",
    "        w=re.sub('[^a-zA-Z]','',w)    \n",
    "        if w == '':\n",
    "            continue\n",
    "        \n",
    "        # stemming \n",
    "        stemmed_word = stemmer.stem(w)\n",
    "        \n",
    "        words.append(stemmed_word)\n",
    "    return words"
   ]
  },
  {
   "cell_type": "code",
   "execution_count": 54,
   "id": "04cfb771-b65c-4426-b47b-55b00a8001c3",
   "metadata": {},
   "outputs": [],
   "source": [
    "# read\n",
    "with open(COUNT_VECTORISER_VAR_FILE, 'rb') as f:\n",
    "    vectorizer = pickle.load(f)"
   ]
  },
  {
   "cell_type": "code",
   "execution_count": 55,
   "id": "ea3d33a5-a283-40e9-914d-a71b03bfe1c0",
   "metadata": {},
   "outputs": [],
   "source": [
    "# read\n",
    "with open(COUNT_VECTORISER_FILE, 'rb') as f:\n",
    "    x = pickle.load(f)"
   ]
  },
  {
   "cell_type": "code",
   "execution_count": null,
   "id": "b71ada88-4c6b-48c1-9e7e-2ad6159ecea4",
   "metadata": {},
   "outputs": [],
   "source": [
    "# prunning\n",
    "vectorizer = CountVectorizer(\n",
    "    ngram_range=(1, 1),\n",
    "    stop_words=nltk.corpus.stopwords.words(\"english\"),\n",
    "    min_df=0.1,\n",
    "    max_df=1.0,\n",
    "    analyzer=stemmed_words\n",
    ")\n",
    "\n",
    "x = vectorizer.fit_transform(daily_content)\n",
    "\n",
    "# write\n",
    "with open(COUNT_VECTORISER_VAR_FILE, 'wb') as fout:\n",
    "    pickle.dump(vectorizer, fout)\n",
    "    \n",
    "# write\n",
    "with open(COUNT_VECTORISER_FILE, 'wb') as fout:\n",
    "    pickle.dump(x, fout)"
   ]
  },
  {
   "cell_type": "code",
   "execution_count": 56,
   "id": "d0d5e4ad-c2f6-4cbb-bdf0-5de511e3f370",
   "metadata": {},
   "outputs": [
    {
     "name": "stdout",
     "output_type": "stream",
     "text": [
      "7176 features\n"
     ]
    }
   ],
   "source": [
    "print(f\"{len(vectorizer.get_feature_names())} features\")"
   ]
  },
  {
   "cell_type": "code",
   "execution_count": 96,
   "id": "ffa43caa-fcbb-4adf-a755-22b973ae1bee",
   "metadata": {},
   "outputs": [
    {
     "data": {
      "text/plain": [
       "145"
      ]
     },
     "execution_count": 96,
     "metadata": {},
     "output_type": "execute_result"
    }
   ],
   "source": [
    "np.min(x_sum)"
   ]
  },
  {
   "cell_type": "code",
   "execution_count": 98,
   "id": "55d464d2-7708-4ee7-ae77-6c3fe5849f3d",
   "metadata": {},
   "outputs": [
    {
     "data": {
      "text/plain": [
       "'lolol'"
      ]
     },
     "execution_count": 98,
     "metadata": {},
     "output_type": "execute_result"
    }
   ],
   "source": [
    "vectorizer.get_feature_names()[np.argmin(x_sum)]"
   ]
  },
  {
   "cell_type": "code",
   "execution_count": 89,
   "id": "4bffc6c4-681a-407d-8e39-a50d6fe372a3",
   "metadata": {},
   "outputs": [],
   "source": [
    "x_sum = x.toarray().sum(axis=0)"
   ]
  },
  {
   "cell_type": "code",
   "execution_count": 95,
   "id": "e86f1a17-6047-4748-b0d5-452ae39e3cf1",
   "metadata": {},
   "outputs": [
    {
     "name": "stdout",
     "output_type": "stream",
     "text": [
      "the 1983224\n",
      "to 1483911\n",
      "and 1054822\n",
      "it 999065\n",
      "is 904312\n",
      "you 892661\n",
      "of 881741\n",
      "that 682975\n",
      "in 657324\n",
      "for 558993\n",
      "http 531703\n",
      "thi 503092\n",
      "ethereum 445926\n",
      "on 443100\n",
      "be 433659\n",
      "bitcoin 374686\n",
      "are 367675\n",
      "have 359111\n",
      "not 348293\n",
      "if 347963\n"
     ]
    }
   ],
   "source": [
    "for i in np.argsort(x_sum)[::-1][:20]:\n",
    "    print(vectorizer.get_feature_names()[i], x_sum[i])"
   ]
  },
  {
   "cell_type": "code",
   "execution_count": 57,
   "id": "6a387480-e4bc-45e8-9208-922d31e9191f",
   "metadata": {},
   "outputs": [],
   "source": [
    "y = df_binance.label"
   ]
  },
  {
   "cell_type": "markdown",
   "id": "30b84a49-0e3d-4184-8124-204043ebcaf9",
   "metadata": {},
   "source": [
    "## Load models"
   ]
  },
  {
   "cell_type": "code",
   "execution_count": 58,
   "id": "1bb8870f-1833-465e-b682-8100d5e1555a",
   "metadata": {},
   "outputs": [],
   "source": [
    "y[y == 0] = 1"
   ]
  },
  {
   "cell_type": "code",
   "execution_count": 59,
   "id": "e49e5a5c-c583-4fb7-a922-97d48c12b03c",
   "metadata": {},
   "outputs": [],
   "source": [
    "Xtrain, Xtest, ytrain, ytest = train_test_split(x,y,test_size=0.2)"
   ]
  },
  {
   "cell_type": "code",
   "execution_count": 60,
   "id": "0aeee5bd-8d2d-41b0-9db3-88ff12a53912",
   "metadata": {},
   "outputs": [],
   "source": [
    "# load knn model\n",
    "with open(KNN_FILE, 'rb') as f:\n",
    "    knn_model = pickle.load(f)"
   ]
  },
  {
   "cell_type": "code",
   "execution_count": 61,
   "id": "b6f251b9-58b7-4999-a7f8-121b8792e449",
   "metadata": {},
   "outputs": [],
   "source": [
    "# load logistic model\n",
    "with open(LOGISTIC_FILE, 'rb') as f:\n",
    "    logistic_model = pickle.load(f)"
   ]
  },
  {
   "cell_type": "code",
   "execution_count": 62,
   "id": "e5d5441f-7db4-4981-85fc-6b571473119f",
   "metadata": {},
   "outputs": [],
   "source": [
    "# load svm model\n",
    "with open(SVM_FILE, 'rb') as f:\n",
    "    svm_model = pickle.load(f)"
   ]
  },
  {
   "cell_type": "markdown",
   "id": "a5f3568f-13d9-4659-910a-61ddf4a1666d",
   "metadata": {},
   "source": [
    "## Metrics"
   ]
  },
  {
   "cell_type": "code",
   "execution_count": 63,
   "id": "cebb188a-dfaa-4384-9fdb-438ef9771cd9",
   "metadata": {},
   "outputs": [
    {
     "name": "stdout",
     "output_type": "stream",
     "text": [
      "              precision    recall  f1-score   support\n",
      "\n",
      "        -1.0       0.36      0.03      0.06       118\n",
      "         1.0       0.58      0.96      0.72       162\n",
      "\n",
      "    accuracy                           0.57       280\n",
      "   macro avg       0.47      0.50      0.39       280\n",
      "weighted avg       0.49      0.57      0.44       280\n",
      "\n",
      "[[  4 114]\n",
      " [  7 155]]\n",
      "knn AUC: 0.49534421427076797\n"
     ]
    }
   ],
   "source": [
    "# knn\n",
    "ypred = knn_model.predict(Xtest)\n",
    "print(classification_report(ytest,ypred))\n",
    "print(confusion_matrix(ytest,ypred))\n",
    "\n",
    "auc_knn = roc_auc_score(ytest, knn_model.predict(Xtest))\n",
    "print('knn AUC:',auc_knn)"
   ]
  },
  {
   "cell_type": "code",
   "execution_count": 66,
   "id": "d1754144-31b0-4f6d-b134-9f3d8a881e1f",
   "metadata": {},
   "outputs": [
    {
     "name": "stdout",
     "output_type": "stream",
     "text": [
      "              precision    recall  f1-score   support\n",
      "\n",
      "        -1.0       0.80      0.10      0.18       118\n",
      "         1.0       0.60      0.98      0.74       162\n",
      "\n",
      "    accuracy                           0.61       280\n",
      "   macro avg       0.70      0.54      0.46       280\n",
      "weighted avg       0.68      0.61      0.51       280\n",
      "\n",
      "[[ 12 106]\n",
      " [  3 159]]\n",
      "logistic AUC: 0.5776313036200043\n"
     ]
    }
   ],
   "source": [
    "# logistic model\n",
    "ypred = logistic_model.predict(Xtest)\n",
    "print(classification_report(ytest,ypred))\n",
    "print(confusion_matrix(ytest,ypred))\n",
    "\n",
    "auc_logistic = roc_auc_score(ytest, logistic_model.decision_function(Xtest))\n",
    "print('logistic AUC:',auc_logistic)"
   ]
  },
  {
   "cell_type": "code",
   "execution_count": 67,
   "id": "be28bdeb-d4ea-4dc8-a343-b6c0b1c0ec2b",
   "metadata": {},
   "outputs": [
    {
     "name": "stdout",
     "output_type": "stream",
     "text": [
      "              precision    recall  f1-score   support\n",
      "\n",
      "        -1.0       0.80      0.10      0.18       118\n",
      "         1.0       0.60      0.98      0.74       162\n",
      "\n",
      "    accuracy                           0.61       280\n",
      "   macro avg       0.70      0.54      0.46       280\n",
      "weighted avg       0.68      0.61      0.51       280\n",
      "\n",
      "[[ 12 106]\n",
      " [  3 159]]\n",
      "svm AUC: 0.5916509730069053\n"
     ]
    }
   ],
   "source": [
    "# svm model\n",
    "ypred = svm_model.predict(Xtest)\n",
    "print(classification_report(ytest,ypred))\n",
    "print(confusion_matrix(ytest,ypred))\n",
    "\n",
    "auc_svm = roc_auc_score(ytest, svm_model.decision_function(Xtest))\n",
    "print('svm AUC:',auc_svm)"
   ]
  },
  {
   "cell_type": "markdown",
   "id": "09fe98a7-9ff1-496a-906d-f173b9dbe175",
   "metadata": {},
   "source": [
    "## Baselines"
   ]
  },
  {
   "cell_type": "code",
   "execution_count": 68,
   "id": "57c36130-1a4c-48a1-b0f8-65e668dd4e95",
   "metadata": {},
   "outputs": [
    {
     "name": "stdout",
     "output_type": "stream",
     "text": [
      "              precision    recall  f1-score   support\n",
      "\n",
      "        -1.0       0.00      0.00      0.00       118\n",
      "         1.0       0.58      1.00      0.73       162\n",
      "\n",
      "    accuracy                           0.58       280\n",
      "   macro avg       0.29      0.50      0.37       280\n",
      "weighted avg       0.33      0.58      0.42       280\n",
      "\n",
      "[[  0 118]\n",
      " [  0 162]]\n",
      "common AUC: 0.5\n"
     ]
    },
    {
     "name": "stderr",
     "output_type": "stream",
     "text": [
      "/Users/nelsonlim/.virtualenv/tcd_ml/lib/python3.7/site-packages/sklearn/metrics/_classification.py:1248: UndefinedMetricWarning: Precision and F-score are ill-defined and being set to 0.0 in labels with no predicted samples. Use `zero_division` parameter to control this behavior.\n",
      "  _warn_prf(average, modifier, msg_start, len(result))\n",
      "/Users/nelsonlim/.virtualenv/tcd_ml/lib/python3.7/site-packages/sklearn/metrics/_classification.py:1248: UndefinedMetricWarning: Precision and F-score are ill-defined and being set to 0.0 in labels with no predicted samples. Use `zero_division` parameter to control this behavior.\n",
      "  _warn_prf(average, modifier, msg_start, len(result))\n",
      "/Users/nelsonlim/.virtualenv/tcd_ml/lib/python3.7/site-packages/sklearn/metrics/_classification.py:1248: UndefinedMetricWarning: Precision and F-score are ill-defined and being set to 0.0 in labels with no predicted samples. Use `zero_division` parameter to control this behavior.\n",
      "  _warn_prf(average, modifier, msg_start, len(result))\n"
     ]
    }
   ],
   "source": [
    "# most frequent\n",
    "common_baseline_model = DummyClassifier(strategy=\"most_frequent\")\n",
    "common_baseline_model.fit(Xtrain, ytrain)\n",
    "common_baseline_prediction = common_baseline_model.predict(Xtest)\n",
    "print(classification_report(ytest,common_baseline_prediction))\n",
    "print(confusion_matrix(ytest,common_baseline_prediction))\n",
    "\n",
    "auc_common = roc_auc_score(ytest, common_baseline_model.predict(Xtest))\n",
    "print('common AUC:',auc_common)"
   ]
  },
  {
   "cell_type": "code",
   "execution_count": 69,
   "id": "248423b8-25b3-4cbe-9e22-c233c002eab7",
   "metadata": {},
   "outputs": [
    {
     "name": "stdout",
     "output_type": "stream",
     "text": [
      "              precision    recall  f1-score   support\n",
      "\n",
      "        -1.0       0.44      0.50      0.47       118\n",
      "         1.0       0.60      0.54      0.56       162\n",
      "\n",
      "    accuracy                           0.52       280\n",
      "   macro avg       0.52      0.52      0.52       280\n",
      "weighted avg       0.53      0.52      0.52       280\n",
      "\n",
      "[[59 59]\n",
      " [75 87]]\n",
      "random AUC: 0.5185185185185186\n"
     ]
    }
   ],
   "source": [
    "random_baseline_model = DummyClassifier(strategy=\"uniform\", random_state=1 )\n",
    "random_baseline_model.fit(Xtrain, ytrain)\n",
    "random_baseline_prediction = random_baseline_model.predict(Xtest)\n",
    "print(classification_report(ytest,random_baseline_prediction))\n",
    "print(confusion_matrix(ytest,random_baseline_prediction))\n",
    "\n",
    "auc_random = roc_auc_score(ytest, random_baseline_model.predict(Xtest))\n",
    "print('random AUC:',auc_random)"
   ]
  },
  {
   "cell_type": "markdown",
   "id": "2da63206-fcaf-41a2-8a71-6cc0486686da",
   "metadata": {},
   "source": [
    "## ROC Curve"
   ]
  },
  {
   "cell_type": "code",
   "execution_count": 70,
   "id": "0e65741b-1cd3-4d1c-9c7b-bcddd393a517",
   "metadata": {},
   "outputs": [
    {
     "data": {
      "image/png": "[encoded data removed]",
      "text/plain": [
       "<Figure size 432x288 with 1 Axes>"
      ]
     },
     "metadata": {
      "needs_background": "light"
     },
     "output_type": "display_data"
    }
   ],
   "source": [
    "fpr_knn, tpr_knn, _ = roc_curve(ytest, knn_model.predict(Xtest))\n",
    "fpr_logistic, tpr_logistic, _ = roc_curve(ytest, logistic_model.decision_function(Xtest))\n",
    "fpr_svm, tpr_svm, _ = roc_curve(ytest, svm_model.decision_function(Xtest))\n",
    "\n",
    "fpr_common, tpr_common, _ = roc_curve(ytest, common_baseline_model.predict(Xtest))\n",
    "fpr_random, tpr_random, _ = roc_curve(ytest, random_baseline_model.predict(Xtest))\n",
    "\n",
    "plt.plot(fpr_knn,tpr_knn, c='c')\n",
    "plt.plot(fpr_logistic,tpr_logistic, c='m')\n",
    "plt.plot(fpr_svm,tpr_svm, c='k')\n",
    "plt.plot(fpr_common,tpr_common, c='red')\n",
    "plt.plot(fpr_random,tpr_random, c='teal')\n",
    "plt.plot([0,1],[0,1], color='green', linestyle='--')\n",
    "plt.legend(['kNN','Logistic','SVM', \"Common\", \"Random\"])\n",
    "plt.xlabel('False positive rate')\n",
    "plt.ylabel('True positive rate')\n",
    "plt.savefig(os.path.join(FIGURE_DIR, \"roc_curve\"),bbox_inches='tight')\n",
    "plt.show()"
   ]
  },
  {
   "cell_type": "code",
   "execution_count": null,
   "id": "58672c40-9156-4d50-8253-cd1117691a29",
   "metadata": {},
   "outputs": [],
   "source": []
  }
 ],
 "metadata": {
  "kernelspec": {
   "display_name": "Python 3 (ipykernel)",
   "language": "python",
   "name": "python3"
  },
  "language_info": {
   "codemirror_mode": {
    "name": "ipython",
    "version": 3
   },
   "file_extension": ".py",
   "mimetype": "text/x-python",
   "name": "python",
   "nbconvert_exporter": "python",
   "pygments_lexer": "ipython3",
   "version": "3.7.10"
  }
 },
 "nbformat": 4,
 "nbformat_minor": 5
}
