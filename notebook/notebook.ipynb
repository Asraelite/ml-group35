{
 "cells": [
  {
   "cell_type": "code",
   "execution_count": 41,
   "id": "68f4e3e1-a33b-4ce5-ac03-b653133ede6c",
   "metadata": {},
   "outputs": [
    {
     "name": "stderr",
     "output_type": "stream",
     "text": [
      "[nltk_data] Downloading package stopwords to\n",
      "[nltk_data]     /Users/nelsonlim/nltk_data...\n",
      "[nltk_data]   Package stopwords is already up-to-date!\n"
     ]
    },
    {
     "data": {
      "text/plain": [
       "True"
      ]
     },
     "execution_count": 41,
     "metadata": {},
     "output_type": "execute_result"
    }
   ],
   "source": [
    "import pandas as pd\n",
    "import os\n",
    "import numpy as np\n",
    "import nltk\n",
    "from sklearn.feature_extraction.text import CountVectorizer \n",
    "from sklearn.model_selection import train_test_split\n",
    "from sklearn.model_selection import cross_val_score\n",
    "from sklearn.svm import LinearSVC\n",
    "from sklearn import metrics\n",
    "from sklearn.metrics import confusion_matrix, classification_report\n",
    "from nltk.stem import PorterStemmer\n",
    "import matplotlib.pyplot as plt\n",
    "import re\n",
    "from collections import Counter\n",
    "nltk.download('stopwords')"
   ]
  },
  {
   "cell_type": "code",
   "execution_count": 75,
   "id": "27a933f2-e041-46f6-8f6e-f9f1728586c8",
   "metadata": {},
   "outputs": [],
   "source": [
    "# change\n",
    "BINANCE_DIR = \"/Users/nelsonlim/Documents/Trinity College Dublin/Semester 1/Machine Learning/Assignment/Week 5/data/binance/processed/day_discrete/\"\n",
    "TWITTER_DIR = \"/Users/nelsonlim/Documents/Trinity College Dublin/Semester 1/Machine Learning/Assignment/Week 5/data/twitter\"\n",
    "REDDIT_DIR = \"/Users/nelsonlim/Documents/Trinity College Dublin/Semester 1/Machine Learning/Assignment/Week 5/data/reddit\"\n",
    "\n",
    "TWITTER_FILE = \"twitter.csv\"\n",
    "REDDIT_FILE  = \"reddit.csv\"\n",
    "\n",
    "FIGURE_DIR = \"/Users/nelsonlim/Documents/Trinity College Dublin/Semester 1/Machine Learning/Assignment/Week 5/notebook/img\"\n",
    "\n",
    "# dont change\n",
    "BINANCE_EXTENSION = \"csv\"\n",
    "\n",
    "START_DATE = \"2018-01-01\"\n",
    "END_DATE = \"2021-10-31\""
   ]
  },
  {
   "cell_type": "code",
   "execution_count": 6,
   "id": "613549d7-57c7-417c-8e2d-1e7e09ef1969",
   "metadata": {},
   "outputs": [],
   "source": [
    "def concatenate_content_values(content_list):\n",
    "\treturn content_list.str.cat(sep=\" \")"
   ]
  },
  {
   "cell_type": "markdown",
   "id": "c085e0ea-d6f7-4cff-879d-eca098349710",
   "metadata": {},
   "source": [
    "# Dataset"
   ]
  },
  {
   "cell_type": "markdown",
   "id": "0dbaae04-6980-4b27-a698-0b3d376057df",
   "metadata": {},
   "source": [
    "### Binance"
   ]
  },
  {
   "cell_type": "code",
   "execution_count": 25,
   "id": "f654b7e2-ad14-42a0-a9b2-23601c627668",
   "metadata": {},
   "outputs": [],
   "source": [
    "# load binance data\n",
    "df_binance_list = []\n",
    "for filename in sorted(os.listdir(BINANCE_DIR)):\n",
    "    if filename.endswith(BINANCE_EXTENSION):\n",
    "        df_binance_list.append(pd.read_csv( os.path.join(BINANCE_DIR,filename)))\n",
    "df_binance = pd.concat(df_binance_list,ignore_index=True)\n",
    "\n",
    "# convert time to date obj\n",
    "df_binance['time'] = pd.to_datetime(df_binance['time'])\n",
    "\n",
    "# change index to time\n",
    "df_binance = df_binance.set_index('time')\n",
    "\n",
    "# filter date range\n",
    "df_binance = df_binance.loc[START_DATE:END_DATE]"
   ]
  },
  {
   "cell_type": "code",
   "execution_count": 34,
   "id": "2b5688b7-4586-467a-b782-8e5c6478a395",
   "metadata": {},
   "outputs": [],
   "source": [
    "price_mean = df_binance['price_mean']\n",
    "binance_time = df_binance.index.strftime(\"%m/%d/%y\").values\n",
    "plot_x = range(len(binance_time))"
   ]
  },
  {
   "cell_type": "code",
   "execution_count": 78,
   "id": "cb506b19-8441-477a-be20-d25de64d441d",
   "metadata": {},
   "outputs": [
    {
     "data": {
      "image/png": "[encoded data removed]",
      "text/plain": [
       "<Figure size 432x288 with 1 Axes>"
      ]
     },
     "metadata": {
      "needs_background": "light"
     },
     "output_type": "display_data"
    }
   ],
   "source": [
    "plt.plot(plot_x, price_mean)   \n",
    "plt.legend(['Ethereum'])\n",
    "plt.xlabel(\"Data Point\")\n",
    "plt.ylabel(\"Mean Price\")\n",
    "plt.savefig(os.path.join(FIGURE_DIR,\"binance_mean_price\"))\n",
    "plt.show()    "
   ]
  },
  {
   "cell_type": "code",
   "execution_count": 79,
   "id": "726089ec-7441-4df2-9b70-40ef7fb99a9c",
   "metadata": {},
   "outputs": [
    {
     "data": {
      "image/png": "[encoded data removed]",
      "text/plain": [
       "<Figure size 432x288 with 1 Axes>"
      ]
     },
     "metadata": {
      "needs_background": "light"
     },
     "output_type": "display_data"
    }
   ],
   "source": [
    "labels = Counter(df_binance['label'].values)\n",
    "labels_keys = list(labels.keys())\n",
    "labels_values = list(labels.values())\n",
    "\n",
    "plt.bar(labels_keys, labels_values)\n",
    "plt.xticks(labels_keys)\n",
    "plt.legend(['Ethereum'])\n",
    "plt.xlabel(\"Label\")\n",
    "plt.ylabel(\"Count\")\n",
    "plt.savefig(os.path.join(FIGURE_DIR,\"binance_label\"))\n",
    "plt.show()"
   ]
  },
  {
   "cell_type": "markdown",
   "id": "c32f0abb-eff4-4b85-aa1e-ef46fcefc386",
   "metadata": {},
   "source": [
    "### Reddit"
   ]
  },
  {
   "cell_type": "code",
   "execution_count": null,
   "id": "5f85ebf6-8d92-441e-b97f-db2bbb67bb04",
   "metadata": {},
   "outputs": [],
   "source": [
    "# read reddit\n",
    "df_reddit = pd.read_csv(  os.path.join(REDDIT_DIR, REDDIT_FILE), lineterminator='\\n' )\n",
    "\n",
    "# convert to date obj\n",
    "df_reddit['date'] = pd.to_datetime(df_reddit['date'])\n",
    "\n",
    "# Join all reddit posts for each day into one big string\n",
    "df_reddit = df_reddit.groupby(\"date\").aggregate({\n",
    "    \"content\": concatenate_content_values,\n",
    "    \"popularity\" : \"sum\"\n",
    "})\n",
    "\n",
    "# filter date range\n",
    "df_reddit = df_reddit.loc[START_DATE:END_DATE]"
   ]
  },
  {
   "cell_type": "markdown",
   "id": "bbb6ca8d-0a75-4e80-9c59-e831dfc6c10f",
   "metadata": {},
   "source": [
    "### Twitter"
   ]
  },
  {
   "cell_type": "code",
   "execution_count": null,
   "id": "8a7b8fdd-3280-4b25-8156-68e2dd27eea7",
   "metadata": {},
   "outputs": [],
   "source": [
    "# load twitter data\n",
    "df_twitter = pd.read_csv( os.path.join(TWITTER_DIR, TWITTER_FILE), lineterminator=\"\\n\")\n",
    "\n",
    "# convert to date obj\n",
    "df_twitter['date'] = pd.to_datetime(df_twitter['date'])\n",
    "\n",
    "# Join all tweets for each day into one big string\n",
    "df_twitter = df_twitter.groupby(\"date\").aggregate({\n",
    "    \"content\": concatenate_content_values,\n",
    "    \"popularity\" : \"sum\"\n",
    "})\n",
    "\n",
    "# filter date range\n",
    "df_twitter = df_twitter.loc[START_DATE:END_DATE]"
   ]
  },
  {
   "cell_type": "code",
   "execution_count": null,
   "id": "863bcf44-e555-4980-840d-088080cdaf9c",
   "metadata": {},
   "outputs": [],
   "source": [
    "input_data = pd.concat([df_reddit,df_twitter]).groupby(\"date\").aggregate({\n",
    "    \"content\": concatenate_content_values,\n",
    "    \"popularity\" : \"sum\"\n",
    "})"
   ]
  },
  {
   "cell_type": "code",
   "execution_count": null,
   "id": "646eb0e7-d37a-4db4-87a0-c46ffbf433bb",
   "metadata": {},
   "outputs": [],
   "source": [
    "daily_content = input_data.content"
   ]
  },
  {
   "cell_type": "markdown",
   "id": "b58e1857-4954-482f-9220-995e6c65e40d",
   "metadata": {},
   "source": [
    "## Preprocess Data"
   ]
  },
  {
   "cell_type": "code",
   "execution_count": null,
   "id": "9b7cf761-5ab5-4858-9566-9dbbe0dae282",
   "metadata": {},
   "outputs": [],
   "source": [
    "# check if there exist any empty column\n",
    "daily_content.isna().sum()"
   ]
  },
  {
   "cell_type": "markdown",
   "id": "b8e8b3ba-0f67-4b80-8bf5-b54a7211c7ce",
   "metadata": {},
   "source": [
    "## Prunning"
   ]
  },
  {
   "cell_type": "code",
   "execution_count": null,
   "id": "7fce1dd6-8587-47a2-a000-fb6e0ee340dd",
   "metadata": {},
   "outputs": [],
   "source": [
    "stemmer = PorterStemmer()\n",
    "\n",
    "# Adding stemmming with CountVectorizer\n",
    "# https://stackoverflow.com/questions/36182502/add-stemming-support-to-countvectorizer-sklearn\n",
    "analyzer = CountVectorizer().build_analyzer()\n",
    "def stemmed_words(doc):\n",
    "    words = []\n",
    "    for w in analyzer(doc):\n",
    "        \n",
    "        # remove words with number\n",
    "        if len(re.findall('\\d+', w)) > 0:\n",
    "            continue\n",
    "        \n",
    "        # only english letters\n",
    "        w=re.sub('[^a-zA-Z]','',w)    \n",
    "        if w == '':\n",
    "            continue\n",
    "        \n",
    "        # stemming \n",
    "        stemmed_word = stemmer.stem(w)\n",
    "        \n",
    "        words.append(stemmed_word)\n",
    "    return words\n",
    "\n",
    "# prunning\n",
    "vectorizer = CountVectorizer(\n",
    "    ngram_range=(1, 1),\n",
    "    stop_words=nltk.corpus.stopwords.words(\"english\"),\n",
    "    min_df=0.1,\n",
    "    max_df=1.0,\n",
    "    analyzer=stemmed_words\n",
    ")\n",
    "\n",
    "x = vectorizer.fit_transform(daily_content)"
   ]
  },
  {
   "cell_type": "code",
   "execution_count": null,
   "id": "472b5dff-e3a2-402c-a940-d0e2fc3bdcf5",
   "metadata": {},
   "outputs": [],
   "source": [
    "print(f\"{len(vectorizer.get_feature_names())} features\")"
   ]
  },
  {
   "cell_type": "code",
   "execution_count": null,
   "id": "45243dc5-3fe3-4a63-9ccb-526d46c78e51",
   "metadata": {},
   "outputs": [],
   "source": [
    "y = df_binance.label"
   ]
  },
  {
   "cell_type": "markdown",
   "id": "b30fa93c-d15f-4479-b8dc-11bab1f7a6ca",
   "metadata": {},
   "source": [
    "### Training"
   ]
  },
  {
   "cell_type": "code",
   "execution_count": null,
   "id": "57d83d82-479f-417b-ae3b-a2fceb2f0c16",
   "metadata": {},
   "outputs": [],
   "source": [
    "y[y == 0] = 1"
   ]
  },
  {
   "cell_type": "code",
   "execution_count": null,
   "id": "275c31e3-9da6-49a1-80bc-faa30fe9bb23",
   "metadata": {},
   "outputs": [],
   "source": [
    "Xtrain, Xtest, ytrain, ytest = train_test_split(x,y,test_size=0.2)"
   ]
  },
  {
   "cell_type": "code",
   "execution_count": null,
   "id": "faa07541-6954-4226-acf6-7dfab77b7474",
   "metadata": {},
   "outputs": [],
   "source": [
    "svm_model = []\n",
    "mean_error = []\n",
    "std_error = []\n",
    "#Ci_range = [0.001, 1.0, 100.0]\n",
    "Ci_range = [0.001, ]\n",
    "\n",
    "for index, Ci in enumerate(Ci_range):    \n",
    "    svm_model.append( LinearSVC(C=Ci, max_iter=10000) )\n",
    "    scores = cross_val_score(svm_model[index], Xtrain, ytrain, cv=5, scoring='f1')\n",
    "    mean_error.append(np.array(scores).mean())\n",
    "    std_error.append(np.array(scores).std())    \n",
    "plt.errorbar(Ci_range, mean-error, yerr=std_error, linewidth=3)\n",
    "plt.xlabel('Ci')\n",
    "plt.ylabel('F1 Score')\n",
    "plt.show()"
   ]
  },
  {
   "cell_type": "code",
   "execution_count": null,
   "id": "92837fce-d5be-45de-8df3-23d617caf49c",
   "metadata": {},
   "outputs": [],
   "source": [
    "FIXED_C = 1\n",
    "\n",
    "model = LinearSVC(C=FIXED_C, max_iter=10000)\n",
    "model.fit(Xtrain,ytrain)\n",
    "ypred = model.predict(Xtest)\n",
    "print(classification_report(ytest,ypred))\n",
    "print(confusion_matrix(ytest,ypred))"
   ]
  },
  {
   "cell_type": "code",
   "execution_count": null,
   "id": "11de54a6-0cb2-4a20-8931-1f8f3fe918b6",
   "metadata": {},
   "outputs": [],
   "source": []
  }
 ],
 "metadata": {
  "kernelspec": {
   "display_name": "Python 3 (ipykernel)",
   "language": "python",
   "name": "python3"
  },
  "language_info": {
   "codemirror_mode": {
    "name": "ipython",
    "version": 3
   },
   "file_extension": ".py",
   "mimetype": "text/x-python",
   "name": "python",
   "nbconvert_exporter": "python",
   "pygments_lexer": "ipython3",
   "version": "3.7.10"
  }
 },
 "nbformat": 4,
 "nbformat_minor": 5
}
