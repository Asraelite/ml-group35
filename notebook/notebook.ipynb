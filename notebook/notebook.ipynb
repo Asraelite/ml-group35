{
 "cells": [
  {
   "cell_type": "code",
   "execution_count": 1,
   "id": "68f4e3e1-a33b-4ce5-ac03-b653133ede6c",
   "metadata": {},
   "outputs": [],
   "source": [
    "import pandas as pd\n",
    "import os\n",
    "import numpy as np"
   ]
  },
  {
   "cell_type": "code",
   "execution_count": 2,
   "id": "27a933f2-e041-46f6-8f6e-f9f1728586c8",
   "metadata": {},
   "outputs": [],
   "source": [
    "# change\n",
    "BINANCE_DIR = \"/Users/nelsonlim/Documents/Trinity College Dublin/Semester 1/Machine Learning/Assignment/Week 5/data/binance/processed/day_discrete/\"\n",
    "TWITTER_DIR = \"/Users/nelsonlim/Documents/Trinity College Dublin/Semester 1/Machine Learning/Assignment/Week 5/data/twitter\"\n",
    "REDDIT_DIR = \"/Users/nelsonlim/Docume nts/Trinity College Dublin/Semester 1/Machine Learning/Assignment/Week 5/data/reddit\"\n",
    "\n",
    "TWITTER_FILE = \"twitter.csv\"\n",
    "REDDIT_FILE  = \"reddit.csv\"\n",
    "\n",
    "# dont change\n",
    "BINANCE_EXTENSION = \"csv\"\n",
    "TWITTER_EXTENSION = \"json\""
   ]
  },
  {
   "cell_type": "markdown",
   "id": "c085e0ea-d6f7-4cff-879d-eca098349710",
   "metadata": {},
   "source": [
    "# Dataset"
   ]
  },
  {
   "cell_type": "markdown",
   "id": "0dbaae04-6980-4b27-a698-0b3d376057df",
   "metadata": {},
   "source": [
    "### Binance"
   ]
  },
  {
   "cell_type": "code",
   "execution_count": 3,
   "id": "f654b7e2-ad14-42a0-a9b2-23601c627668",
   "metadata": {},
   "outputs": [],
   "source": [
    "# load binance data\n",
    "df_binance_list = []\n",
    "for filename in sorted(os.listdir(BINANCE_DIR)):\n",
    "    if filename.endswith(BINANCE_EXTENSION):\n",
    "        df_binance_list.append(pd.read_csv( os.path.join(BINANCE_DIR,filename)))\n",
    "df_binance = pd.concat(df_binance_list,ignore_index=True)"
   ]
  },
  {
   "cell_type": "code",
   "execution_count": 5,
   "id": "9fa3c257-e770-40ce-8da2-c708803ffa0d",
   "metadata": {},
   "outputs": [],
   "source": [
    "df_binance['time'] = pd.to_datetime(df_binance['time'])"
   ]
  },
  {
   "cell_type": "markdown",
   "id": "c32f0abb-eff4-4b85-aa1e-ef46fcefc386",
   "metadata": {},
   "source": [
    "### Reddit"
   ]
  },
  {
   "cell_type": "code",
   "execution_count": 59,
   "id": "5f85ebf6-8d92-441e-b97f-db2bbb67bb04",
   "metadata": {},
   "outputs": [],
   "source": [
    "df_reddit = pd.read_csv(  os.path.join(REDDIT_DIR, REDDIT_FILE), lineterminator='\\n' )\n",
    "df_reddit = df_reddit.dropna()"
   ]
  },
  {
   "cell_type": "code",
   "execution_count": 60,
   "id": "004eefa5-acd4-4f5c-8f4c-df77a6db2039",
   "metadata": {},
   "outputs": [],
   "source": [
    "df_reddit['date'] = pd.to_datetime(df_reddit['date'])"
   ]
  },
  {
   "cell_type": "markdown",
   "id": "bbb6ca8d-0a75-4e80-9c59-e831dfc6c10f",
   "metadata": {},
   "source": [
    "### Twitter"
   ]
  },
  {
   "cell_type": "code",
   "execution_count": 10,
   "id": "8a7b8fdd-3280-4b25-8156-68e2dd27eea7",
   "metadata": {},
   "outputs": [],
   "source": [
    "# load twitter data\n",
    "df_twitter = pd.read_csv( os.path.join(TWITTER_DIR, TWITTER_FILE), lineterminator=\"\\n\")"
   ]
  },
  {
   "cell_type": "code",
   "execution_count": 11,
   "id": "6d3215fe-38db-4910-b414-facf8dc33db3",
   "metadata": {},
   "outputs": [
    {
     "name": "stdout",
     "output_type": "stream",
     "text": [
      "Empty DataFrame\n",
      "Columns: [date, category, popularity, content]\n",
      "Index: []\n"
     ]
    }
   ],
   "source": [
    "print(df_twitter[df_twitter['date'].str.len() != 10])"
   ]
  },
  {
   "cell_type": "code",
   "execution_count": 12,
   "id": "31222d69-980a-44d3-94c2-cc8ca956586b",
   "metadata": {},
   "outputs": [],
   "source": [
    "df_twitter['date'] = pd.to_datetime(df_twitter['date'])"
   ]
  },
  {
   "cell_type": "markdown",
   "id": "b8e8b3ba-0f67-4b80-8bf5-b54a7211c7ce",
   "metadata": {},
   "source": [
    "## Prunning"
   ]
  },
  {
   "cell_type": "code",
   "execution_count": 8,
   "id": "752ed839-4a30-4b58-b637-c5abe214b319",
   "metadata": {},
   "outputs": [
    {
     "name": "stderr",
     "output_type": "stream",
     "text": [
      "[nltk_data] Downloading package stopwords to\n",
      "[nltk_data]     /Users/nelsonlim/nltk_data...\n",
      "[nltk_data]   Package stopwords is already up-to-date!\n"
     ]
    }
   ],
   "source": [
    "# prunning\n",
    "import nltk\n",
    "from sklearn.feature_extraction.text import CountVectorizer \n",
    "nltk.download('stopwords')\n",
    "vectorizer = CountVectorizer(stop_words=nltk.corpus.stopwords.words(\"english\"))"
   ]
  },
  {
   "cell_type": "code",
   "execution_count": 62,
   "id": "9e793338-aad1-4d1e-a9b3-6934c181754f",
   "metadata": {},
   "outputs": [],
   "source": [
    "x = vectorizer.fit_transform(df_reddit.content)"
   ]
  },
  {
   "cell_type": "code",
   "execution_count": 75,
   "id": "308945c2-7b3f-4756-aee4-d3bdf8fc3656",
   "metadata": {},
   "outputs": [
    {
     "data": {
      "text/plain": [
       "['00',\n",
       " '000',\n",
       " '0000',\n",
       " '00000',\n",
       " '000000',\n",
       " '0000000',\n",
       " '00000000',\n",
       " '000000000',\n",
       " '0000000000',\n",
       " '00000000000000',\n",
       " '0000000000000000',\n",
       " '00000000000000000',\n",
       " '000000000000000000',\n",
       " '0000000000000000000000',\n",
       " '00000000000000000000000',\n",
       " '000000000000000000000000000',\n",
       " '0000000000000000000000000000000000',\n",
       " '000000000000000000000000000000000000000000',\n",
       " '00000000000000000000000000000000000000000000000000000000000000000000000000000000000000000000000000000000000000000000000000000000000000000000000000000000000000000000000000000001',\n",
       " '000000000000000000000000000000000000000000000000000000000000000000000000000001',\n",
       " '00000000000000000000000000000000000000000000000000000000000000001',\n",
       " '0000000000000000000000000000000000000000000000000000000000000001',\n",
       " '000000000000000000000000000000000000000000000000000000000000000a',\n",
       " '00000000000000000000000000000000000000000000000000000012a05f2000',\n",
       " '0000000000000000000000000000000000000000000000000000005d21dba000',\n",
       " '0000000000000000000000000000000000000000000000008ac7230489e80000',\n",
       " '00000000000000000000000000000000000000000000005c8b848b14c539afc3',\n",
       " '000000000000000000000000000000000000000001',\n",
       " '000000000000000000000000000000000000000002',\n",
       " '000000000000000000000000000000000000000003',\n",
       " '000000000000000000000000000000000000001',\n",
       " '000000000000000000000000000000000000002',\n",
       " '0000000000000000000000000000000001',\n",
       " '0000000000000000000000000000003',\n",
       " '000000000000000000000000001',\n",
       " '00000000000000000000000064daf2a39e120734e0d831dcd7486481edbde5ee',\n",
       " '000000000000000000000000839395e20bbb182fa440d08f850e6c7a8f6f0780',\n",
       " '000000000000000000000000855f13573d0b59c2c1497861d805e221e9d77c89',\n",
       " '000000000000000000000000fd2d9c405b2462d62f62a6919ecbbaac6c6f3eac',\n",
       " '000000000000000000000001',\n",
       " '00000000000000000000000xxxxxxxxxxxxxxxxxxxxxxxxxxxxxxxx',\n",
       " '00000000000000000000001',\n",
       " '00000000000000000000c1e8df51b22c1588e5a624bea17e9faa34b2dc4a21e8',\n",
       " '00000000000000000002c1cdc306abcfabdaecb87b49e26bda9a626e9cc94a34',\n",
       " '00000000000000000002cb9d6677937ecde1d7e538b0890e67a7036ad83c575b',\n",
       " '00000000000000000004f8778a2291cb572ce122181188e20bd74eeebbb7266a',\n",
       " '000000000000000000055ba17091a20f91bd2a770db7d4b7f8b446b1a87c9cfa',\n",
       " '00000000000000000005c1f26b637319bfaab5f2e46ca8ba8d4f1fffe70c5150',\n",
       " '00000000000000000006b03b948986383d4892a98cd65b89a3370fb53a4c7abb',\n",
       " '00000000000000000008b34730a78520770dd78a2e827b02d0c207f7b1c391de',\n",
       " '0000000000000000000bd1406bff148881f521a6ded889ca4e0bd18c96aedb20',\n",
       " '0000000000000000000d656be18bb095db1b23bd797266b0ac3ba720b1962b1e',\n",
       " '0000000000000000000de6d595bddae743ac032b1458a47ccaef7b0f6f1e3210',\n",
       " '0000000000000000000df6fb0a461b474020369b7d51bdf80f07837bb260bbb7',\n",
       " '0000000000000000000f27c8d82a4b17c685f9af1a334b3f8383df14cccfb7ab',\n",
       " '0000000000000000000fced7f67954e0401a017b2717bfade46371ebc0fd7131',\n",
       " '000000000000000000114ab5dc22edd7e092c295e42e4e66b2d522d6d2a64d28',\n",
       " '00000000000000000017b58a5f72315bd15e434153327b5626fa73473e97065a',\n",
       " '00000000000000000021e800c1e8df51b22c1588e5a624bea17e9faa34b2dc4a',\n",
       " '00000000000000000024fb37364cbf81fd49cc2d51c09c75c35433c3a1945d04',\n",
       " '00000000000000000080c9458f9e32a3a306cf76bd917fa647045bc3134c26dd',\n",
       " '000000000000000001',\n",
       " '000000000000000001dbeb216651b9cc580043ccbe6dcc6a68686a22cbaeae15',\n",
       " '000000000000000001usd',\n",
       " '000000000000000002beea4b1439b9f2abbb8a74e57c35cb55b78dc4171afacd',\n",
       " '000000000000000044425226262',\n",
       " '000000000000000053523636363',\n",
       " '0000000000000000e231d6676909d4d54296d640d996453b6778cc8081239c1f',\n",
       " '0000000000000001',\n",
       " '000000000000000781',\n",
       " '000000000000000ad4345323424',\n",
       " '000000000000001',\n",
       " '0000000000000018',\n",
       " '00000000000001',\n",
       " '0000000000001',\n",
       " '00000000000016ccc762e706f493d69956174cd9fbf9378fca61a8c3ea5ffd45',\n",
       " '00000000000034kljhasfdlkjh43t5lkjhadat432fwedsafr54yy534f',\n",
       " '0000000000009',\n",
       " '000000000001',\n",
       " '0000000000012749',\n",
       " '000000000002628',\n",
       " '000000000002btc',\n",
       " '00000000001',\n",
       " '000000000014',\n",
       " '000000000019d6689c085ae165831e934ff763ae46a2a6c172b3f1b60a8ce26f',\n",
       " '00000000003',\n",
       " '00000000004',\n",
       " '0000000000426',\n",
       " '0000000000593',\n",
       " '000000000072459',\n",
       " '0000000001',\n",
       " '00000000012',\n",
       " '0000000002',\n",
       " '00000000025',\n",
       " '00000000031',\n",
       " '000000000363731',\n",
       " '00000000045',\n",
       " '0000000005',\n",
       " '000000000846',\n",
       " '000000000btc',\n",
       " '000000001',\n",
       " '00000000100000000011',\n",
       " '0000000012',\n",
       " '0000000013',\n",
       " '00000000167',\n",
       " '000000001b',\n",
       " '000000001btc',\n",
       " '000000001gram',\n",
       " '0000000025',\n",
       " '0000000027',\n",
       " '000000003',\n",
       " '0000000031',\n",
       " '0000000035',\n",
       " '00000000375',\n",
       " '000000004',\n",
       " '000000005',\n",
       " '000000008',\n",
       " '00000000b7691ccc084542565697eca256e56bb7f67e560b48789db27f0468eb',\n",
       " '00000000btc',\n",
       " '00000001',\n",
       " '00000001000001',\n",
       " '000000011',\n",
       " '00000001101',\n",
       " '000000011641533',\n",
       " '000000012',\n",
       " '000000017373838',\n",
       " '00000001btc',\n",
       " '00000002',\n",
       " '000000023283067',\n",
       " '000000025',\n",
       " '00000002s',\n",
       " '00000003',\n",
       " '0000000305',\n",
       " '000000037',\n",
       " '0000000375',\n",
       " '000000038',\n",
       " '00000004',\n",
       " '000000043',\n",
       " '000000045',\n",
       " '000000046566133',\n",
       " '00000005',\n",
       " '000000055',\n",
       " '00000005671',\n",
       " '0000000581',\n",
       " '00000006',\n",
       " '00000008',\n",
       " '00000009',\n",
       " '000000093132267',\n",
       " '0000001',\n",
       " '00000010',\n",
       " '00000011',\n",
       " '000000112121',\n",
       " '0000001230123',\n",
       " '000000131',\n",
       " '00000014',\n",
       " '00000014019',\n",
       " '000000144468291913',\n",
       " '00000016',\n",
       " '00000017btc',\n",
       " '00000018',\n",
       " '000000186264534',\n",
       " '00000019',\n",
       " '0000002',\n",
       " '00000020',\n",
       " '00000021',\n",
       " '00000023',\n",
       " '000000254',\n",
       " '0000003',\n",
       " '00000030',\n",
       " '00000031',\n",
       " '000000372529068',\n",
       " '0000004',\n",
       " '00000040',\n",
       " '00000044',\n",
       " '0000005',\n",
       " '00000050',\n",
       " '0000005000',\n",
       " '000000503119676539',\n",
       " '00000051',\n",
       " '00000053',\n",
       " '000000534354',\n",
       " '00000055',\n",
       " '000000558',\n",
       " '00000056',\n",
       " '00000056632',\n",
       " '00000058',\n",
       " '0000006',\n",
       " '00000068',\n",
       " '0000007',\n",
       " '000000745058136',\n",
       " '000000765',\n",
       " '00000085',\n",
       " '000000864',\n",
       " '00000089',\n",
       " '00000091',\n",
       " '000000flash',\n",
       " '000000new',\n",
       " '000001',\n",
       " '0000010',\n",
       " '00000110']"
      ]
     },
     "execution_count": 75,
     "metadata": {},
     "output_type": "execute_result"
    }
   ],
   "source": [
    "vectorizer.get_feature_names()[:200]"
   ]
  },
  {
   "cell_type": "code",
   "execution_count": 64,
   "id": "ab7ef63a-a07b-4a18-82b5-1bbad95a9971",
   "metadata": {},
   "outputs": [
    {
     "data": {
      "text/plain": [
       "324968"
      ]
     },
     "execution_count": 64,
     "metadata": {},
     "output_type": "execute_result"
    }
   ],
   "source": [
    "len(vectorizer.get_feature_names())"
   ]
  }
 ],
 "metadata": {
  "kernelspec": {
   "display_name": "Python 3 (ipykernel)",
   "language": "python",
   "name": "python3"
  },
  "language_info": {
   "codemirror_mode": {
    "name": "ipython",
    "version": 3
   },
   "file_extension": ".py",
   "mimetype": "text/x-python",
   "name": "python",
   "nbconvert_exporter": "python",
   "pygments_lexer": "ipython3",
   "version": "3.7.10"
  }
 },
 "nbformat": 4,
 "nbformat_minor": 5
}
