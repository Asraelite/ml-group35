{
 "cells": [
  {
   "cell_type": "code",
   "execution_count": 32,
   "id": "68f4e3e1-a33b-4ce5-ac03-b653133ede6c",
   "metadata": {
    "colab": {
     "base_uri": "https://localhost:8080/"
    },
    "id": "68f4e3e1-a33b-4ce5-ac03-b653133ede6c",
    "outputId": "5a49df03-97a3-4ace-c059-a9ae0ef8c042"
   },
   "outputs": [
    {
     "name": "stderr",
     "output_type": "stream",
     "text": [
      "[nltk_data] Downloading package stopwords to\n",
      "[nltk_data]     /Users/nelsonlim/nltk_data...\n",
      "[nltk_data]   Package stopwords is already up-to-date!\n"
     ]
    },
    {
     "data": {
      "text/plain": [
       "True"
      ]
     },
     "execution_count": 32,
     "metadata": {},
     "output_type": "execute_result"
    }
   ],
   "source": [
    "import pandas as pd\n",
    "import os\n",
    "import numpy as np\n",
    "import nltk\n",
    "from sklearn.feature_extraction.text import CountVectorizer \n",
    "from sklearn.model_selection import train_test_split\n",
    "from sklearn.model_selection import cross_val_score\n",
    "from sklearn.svm import LinearSVC\n",
    "from sklearn import metrics\n",
    "from sklearn.metrics import confusion_matrix, classification_report, f1_score, roc_curve, roc_auc_score\n",
    "from sklearn.dummy import DummyClassifier\n",
    "from nltk.stem import PorterStemmer\n",
    "import matplotlib.pyplot as plt\n",
    "import re\n",
    "from collections import Counter\n",
    "from sklearn.model_selection import KFold, train_test_split\n",
    "import numpy as np\n",
    "import pickle\n",
    "from numpy.random import seed\n",
    "from sklearn.neighbors import KNeighborsClassifier\n",
    "seed(3)\n",
    "nltk.download('stopwords')"
   ]
  },
  {
   "cell_type": "code",
   "execution_count": 43,
   "id": "27a933f2-e041-46f6-8f6e-f9f1728586c8",
   "metadata": {
    "id": "27a933f2-e041-46f6-8f6e-f9f1728586c8"
   },
   "outputs": [],
   "source": [
    "# change\n",
    "BINANCE_DIR = \"/Users/nelsonlim/Documents/Trinity College Dublin/Semester 1/Machine Learning/Assignment/Week 5/data/binance/processed/day_discrete\"\n",
    "TWITTER_DIR = \"/Users/nelsonlim/Documents/Trinity College Dublin/Semester 1/Machine Learning/Assignment/Week 5/data/twitter\"\n",
    "REDDIT_DIR = \"/Users/nelsonlim/Documents/Trinity College Dublin/Semester 1/Machine Learning/Assignment/Week 5/data/reddit\"\n",
    "\n",
    "TWITTER_FILE = \"twitter.csv\"\n",
    "REDDIT_FILE  = \"reddit.csv\"\n",
    "BINANCE_FILE = None\n",
    "\n",
    "FIGURE_DIR = \"/Users/nelsonlim/Documents/Trinity College Dublin/Semester 1/Machine Learning/Assignment/Week 5/notebook/img\"\n",
    "SAVE_FIG = False\n",
    "\n",
    "# SAVED MODELS & VARIABLES\n",
    "COUNT_VECTORISER_FILE = \"/Users/nelsonlim/Documents/Trinity College Dublin/Semester 1/Machine Learning/Assignment/Week 5/data/count_vectoriser.pkl\" # x\n",
    "COUNT_VECTORISER_VAR_FILE = \"/Users/nelsonlim/Documents/Trinity College Dublin/Semester 1/Machine Learning/Assignment/Week 5/data/count_vectoriser_var.pkl\" # vectorizer data\n",
    "SVM_FILE = \"/Users/nelsonlim/Documents/Trinity College Dublin/Semester 1/Machine Learning/Assignment/Week 5/data/SVM_model.pkl\"\n",
    "KNN_MODELS_CV_K = \"/Users/nelsonlim/Documents/Trinity College Dublin/Semester 1/Machine Learning/Assignment/Week 5/data/KNN_models_cv_k.pkl\"\n",
    "KNN_FILE = \"/Users/nelsonlim/Documents/Trinity College Dublin/Semester 1/Machine Learning/Assignment/Week 5/data/KNN_model.pkl\"\n",
    "\n",
    "# dont change\n",
    "BINANCE_EXTENSION = \"csv\"\n",
    "\n",
    "START_DATE = \"2018-01-01\"\n",
    "END_DATE = \"2021-10-31\""
   ]
  },
  {
   "cell_type": "code",
   "execution_count": null,
   "id": "9sNCjj--DK7y",
   "metadata": {
    "colab": {
     "base_uri": "https://localhost:8080/"
    },
    "id": "9sNCjj--DK7y",
    "outputId": "80b6bec0-fadb-43dd-c792-947d2d43e4f8"
   },
   "outputs": [
    {
     "name": "stdout",
     "output_type": "stream",
     "text": [
      "Mounted at /content/drive\n"
     ]
    }
   ],
   "source": [
    "from google.colab import drive\n",
    "drive.mount('/content/drive')"
   ]
  },
  {
   "cell_type": "code",
   "execution_count": 4,
   "id": "613549d7-57c7-417c-8e2d-1e7e09ef1969",
   "metadata": {
    "id": "613549d7-57c7-417c-8e2d-1e7e09ef1969"
   },
   "outputs": [],
   "source": [
    "def concatenate_content_values(content_list):\n",
    "\treturn content_list.str.cat(sep=\" \")"
   ]
  },
  {
   "cell_type": "markdown",
   "id": "c085e0ea-d6f7-4cff-879d-eca098349710",
   "metadata": {
    "id": "c085e0ea-d6f7-4cff-879d-eca098349710"
   },
   "source": [
    "# Dataset"
   ]
  },
  {
   "cell_type": "markdown",
   "id": "0dbaae04-6980-4b27-a698-0b3d376057df",
   "metadata": {
    "id": "0dbaae04-6980-4b27-a698-0b3d376057df"
   },
   "source": [
    "### Binance"
   ]
  },
  {
   "cell_type": "code",
   "execution_count": 7,
   "id": "f654b7e2-ad14-42a0-a9b2-23601c627668",
   "metadata": {
    "id": "f654b7e2-ad14-42a0-a9b2-23601c627668"
   },
   "outputs": [
    {
     "name": "stdout",
     "output_type": "stream",
     "text": [
      "run this\n"
     ]
    }
   ],
   "source": [
    "if BINANCE_FILE is None:\n",
    "    # load binance data\n",
    "    df_binance_list = []\n",
    "    for filename in sorted(os.listdir(BINANCE_DIR)):\n",
    "        if filename.endswith(BINANCE_EXTENSION):\n",
    "            df_binance_list.append(pd.read_csv( os.path.join(BINANCE_DIR,filename)))\n",
    "    df_binance = pd.concat(df_binance_list,ignore_index=True)\n",
    "\n",
    "    # convert time to date obj\n",
    "    df_binance['time'] = pd.to_datetime(df_binance['time'])\n",
    "\n",
    "    # change index to time\n",
    "    df_binance = df_binance.set_index('time')\n",
    "\n",
    "    # filter date range\n",
    "    df_binance = df_binance.loc[START_DATE:END_DATE]\n",
    "else:    \n",
    "    # load binance data\n",
    "    df_binance = pd.read_csv(  os.path.join(BINANCE_DIR, BINANCE_FILE), lineterminator='\\n' )\n",
    "\n",
    "    # convert time to date obj\n",
    "    df_binance['time'] = pd.to_datetime(df_binance['time'])\n",
    "\n",
    "    # change index to time\n",
    "    df_binance = df_binance.set_index('time')\n",
    "\n",
    "    # filter date range\n",
    "    df_binance = df_binance.loc[START_DATE:END_DATE]"
   ]
  },
  {
   "cell_type": "code",
   "execution_count": 9,
   "id": "5b8980e1-95dd-4649-a7bf-4e62016290df",
   "metadata": {},
   "outputs": [],
   "source": [
    "price_mean = df_binance['price_mean']\n",
    "binance_time = df_binance.index.strftime(\"%m/%d/%y\").values\n",
    "plot_x = range(len(binance_time))"
   ]
  },
  {
   "cell_type": "code",
   "execution_count": 12,
   "id": "5cbcb7e8-a342-4b16-b5e0-ba375690bece",
   "metadata": {},
   "outputs": [
    {
     "data": {
      "image/png": "[encoded data removed]",
      "text/plain": [
       "<Figure size 432x288 with 1 Axes>"
      ]
     },
     "metadata": {
      "needs_background": "light"
     },
     "output_type": "display_data"
    }
   ],
   "source": [
    "plt.plot(plot_x, price_mean)   \n",
    "plt.legend(['Ethereum'])\n",
    "plt.xlabel(\"Data Point\")\n",
    "plt.ylabel(\"Mean Price\")\n",
    "if SAVE_FIG:\n",
    "    plt.savefig(os.path.join(FIGURE_DIR,\"binance_mean_price\"))\n",
    "plt.show()    "
   ]
  },
  {
   "cell_type": "code",
   "execution_count": 13,
   "id": "46347001-4cc9-4be4-8a7d-d2102c18ef5c",
   "metadata": {},
   "outputs": [
    {
     "data": {
      "image/png": "[encoded data removed]",
      "text/plain": [
       "<Figure size 432x288 with 1 Axes>"
      ]
     },
     "metadata": {
      "needs_background": "light"
     },
     "output_type": "display_data"
    }
   ],
   "source": [
    "labels = Counter(df_binance['label'].values)\n",
    "labels_keys = list(labels.keys())\n",
    "labels_values = list(labels.values())\n",
    "\n",
    "plt.bar(labels_keys, labels_values)\n",
    "plt.xticks(labels_keys)\n",
    "plt.legend(['Ethereum'])\n",
    "plt.xlabel(\"Label\")\n",
    "plt.ylabel(\"Count\")\n",
    "if SAVE_FIG:\n",
    "    plt.savefig(os.path.join(FIGURE_DIR,\"binance_label\"))\n",
    "plt.show()"
   ]
  },
  {
   "cell_type": "markdown",
   "id": "c32f0abb-eff4-4b85-aa1e-ef46fcefc386",
   "metadata": {
    "id": "c32f0abb-eff4-4b85-aa1e-ef46fcefc386"
   },
   "source": [
    "### Reddit"
   ]
  },
  {
   "cell_type": "code",
   "execution_count": 14,
   "id": "5f85ebf6-8d92-441e-b97f-db2bbb67bb04",
   "metadata": {
    "id": "5f85ebf6-8d92-441e-b97f-db2bbb67bb04"
   },
   "outputs": [],
   "source": [
    "# read reddit\n",
    "df_reddit = pd.read_csv(  os.path.join(REDDIT_DIR, REDDIT_FILE), lineterminator='\\n' )\n",
    "\n",
    "# convert to date obj\n",
    "df_reddit['date'] = pd.to_datetime(df_reddit['date'])\n",
    "\n",
    "# Join all reddit posts for each day into one big string\n",
    "df_reddit = df_reddit.groupby(\"date\").aggregate({\n",
    "    \"content\": concatenate_content_values,\n",
    "    \"popularity\" : \"sum\"\n",
    "})\n",
    "\n",
    "# filter date range\n",
    "df_reddit = df_reddit.loc[START_DATE:END_DATE]"
   ]
  },
  {
   "cell_type": "code",
   "execution_count": 15,
   "id": "9c6c9bb9-ad9a-468a-801e-0b04469a6837",
   "metadata": {
    "colab": {
     "base_uri": "https://localhost:8080/",
     "height": 237
    },
    "id": "9c6c9bb9-ad9a-468a-801e-0b04469a6837",
    "outputId": "a6af7b8e-c83a-4762-9c64-a3bd983257e1"
   },
   "outputs": [
    {
     "data": {
      "text/html": [
       "<div>\n",
       "<style scoped>\n",
       "    .dataframe tbody tr th:only-of-type {\n",
       "        vertical-align: middle;\n",
       "    }\n",
       "\n",
       "    .dataframe tbody tr th {\n",
       "        vertical-align: top;\n",
       "    }\n",
       "\n",
       "    .dataframe thead th {\n",
       "        text-align: right;\n",
       "    }\n",
       "</style>\n",
       "<table border=\"1\" class=\"dataframe\">\n",
       "  <thead>\n",
       "    <tr style=\"text-align: right;\">\n",
       "      <th></th>\n",
       "      <th>content</th>\n",
       "      <th>popularity</th>\n",
       "    </tr>\n",
       "    <tr>\n",
       "      <th>date</th>\n",
       "      <th></th>\n",
       "      <th></th>\n",
       "    </tr>\n",
       "  </thead>\n",
       "  <tbody>\n",
       "    <tr>\n",
       "      <th>2018-01-01</th>\n",
       "      <td>how you do it? i cant change the onboard to pc...</td>\n",
       "      <td>2.104167</td>\n",
       "    </tr>\n",
       "    <tr>\n",
       "      <th>2018-01-02</th>\n",
       "      <td>If you have nvidia experience, it'll prompt yo...</td>\n",
       "      <td>2.432655</td>\n",
       "    </tr>\n",
       "    <tr>\n",
       "      <th>2018-01-03</th>\n",
       "      <td>&amp;gt; I'm getting pretty low hashrates on my ri...</td>\n",
       "      <td>1.912791</td>\n",
       "    </tr>\n",
       "    <tr>\n",
       "      <th>2018-01-04</th>\n",
       "      <td>http://brianford.tech/2017-10-10-etherMiningRi...</td>\n",
       "      <td>2.580911</td>\n",
       "    </tr>\n",
       "    <tr>\n",
       "      <th>2018-01-05</th>\n",
       "      <td>Currently I'm on wifi. I hear ethermine mines ...</td>\n",
       "      <td>2.102229</td>\n",
       "    </tr>\n",
       "  </tbody>\n",
       "</table>\n",
       "</div>"
      ],
      "text/plain": [
       "                                                      content  popularity\n",
       "date                                                                     \n",
       "2018-01-01  how you do it? i cant change the onboard to pc...    2.104167\n",
       "2018-01-02  If you have nvidia experience, it'll prompt yo...    2.432655\n",
       "2018-01-03  &gt; I'm getting pretty low hashrates on my ri...    1.912791\n",
       "2018-01-04  http://brianford.tech/2017-10-10-etherMiningRi...    2.580911\n",
       "2018-01-05  Currently I'm on wifi. I hear ethermine mines ...    2.102229"
      ]
     },
     "execution_count": 15,
     "metadata": {},
     "output_type": "execute_result"
    }
   ],
   "source": [
    "df_reddit.head()"
   ]
  },
  {
   "cell_type": "markdown",
   "id": "bbb6ca8d-0a75-4e80-9c59-e831dfc6c10f",
   "metadata": {
    "id": "bbb6ca8d-0a75-4e80-9c59-e831dfc6c10f"
   },
   "source": [
    "### Twitter"
   ]
  },
  {
   "cell_type": "code",
   "execution_count": 16,
   "id": "8a7b8fdd-3280-4b25-8156-68e2dd27eea7",
   "metadata": {
    "id": "8a7b8fdd-3280-4b25-8156-68e2dd27eea7"
   },
   "outputs": [],
   "source": [
    "# load twitter data\n",
    "df_twitter = pd.read_csv( os.path.join(TWITTER_DIR, TWITTER_FILE), lineterminator=\"\\n\")\n",
    "\n",
    "# convert to date obj\n",
    "df_twitter['date'] = pd.to_datetime(df_twitter['date'])\n",
    "\n",
    "# Join all tweets for each day into one big string\n",
    "df_twitter = df_twitter.groupby(\"date\").aggregate({\n",
    "    \"content\": concatenate_content_values,\n",
    "    \"popularity\" : \"sum\"\n",
    "})\n",
    "\n",
    "# filter date range\n",
    "df_twitter = df_twitter.loc[START_DATE:END_DATE]"
   ]
  },
  {
   "cell_type": "code",
   "execution_count": 17,
   "id": "76495f6a-dc43-4884-a8ca-ebdc4fcb667d",
   "metadata": {
    "colab": {
     "base_uri": "https://localhost:8080/",
     "height": 237
    },
    "id": "76495f6a-dc43-4884-a8ca-ebdc4fcb667d",
    "outputId": "d468063b-5458-4240-d3ba-9c63a6c8061f"
   },
   "outputs": [
    {
     "data": {
      "text/html": [
       "<div>\n",
       "<style scoped>\n",
       "    .dataframe tbody tr th:only-of-type {\n",
       "        vertical-align: middle;\n",
       "    }\n",
       "\n",
       "    .dataframe tbody tr th {\n",
       "        vertical-align: top;\n",
       "    }\n",
       "\n",
       "    .dataframe thead th {\n",
       "        text-align: right;\n",
       "    }\n",
       "</style>\n",
       "<table border=\"1\" class=\"dataframe\">\n",
       "  <thead>\n",
       "    <tr style=\"text-align: right;\">\n",
       "      <th></th>\n",
       "      <th>content</th>\n",
       "      <th>popularity</th>\n",
       "    </tr>\n",
       "    <tr>\n",
       "      <th>date</th>\n",
       "      <th></th>\n",
       "      <th></th>\n",
       "    </tr>\n",
       "  </thead>\n",
       "  <tbody>\n",
       "    <tr>\n",
       "      <th>2018-01-01</th>\n",
       "      <td>#Ethereum trade bot is attempting to sell. Cur...</td>\n",
       "      <td>0.049917</td>\n",
       "    </tr>\n",
       "    <tr>\n",
       "      <th>2018-01-02</th>\n",
       "      <td>#AIRDROP #EtherFlip #FLIP #LIVE @Ethereum_Flip...</td>\n",
       "      <td>0.012856</td>\n",
       "    </tr>\n",
       "    <tr>\n",
       "      <th>2018-01-03</th>\n",
       "      <td>#AIRDROP #EtherFlip #FLIP #LIVE @Ethereum_Flip...</td>\n",
       "      <td>0.068100</td>\n",
       "    </tr>\n",
       "    <tr>\n",
       "      <th>2018-01-04</th>\n",
       "      <td>Estonian enterprises will use the Ethereum blo...</td>\n",
       "      <td>0.025132</td>\n",
       "    </tr>\n",
       "    <tr>\n",
       "      <th>2018-01-05</th>\n",
       "      <td>Update: took 10 hours for my Ethereum payment ...</td>\n",
       "      <td>0.077095</td>\n",
       "    </tr>\n",
       "  </tbody>\n",
       "</table>\n",
       "</div>"
      ],
      "text/plain": [
       "                                                      content  popularity\n",
       "date                                                                     \n",
       "2018-01-01  #Ethereum trade bot is attempting to sell. Cur...    0.049917\n",
       "2018-01-02  #AIRDROP #EtherFlip #FLIP #LIVE @Ethereum_Flip...    0.012856\n",
       "2018-01-03  #AIRDROP #EtherFlip #FLIP #LIVE @Ethereum_Flip...    0.068100\n",
       "2018-01-04  Estonian enterprises will use the Ethereum blo...    0.025132\n",
       "2018-01-05  Update: took 10 hours for my Ethereum payment ...    0.077095"
      ]
     },
     "execution_count": 17,
     "metadata": {},
     "output_type": "execute_result"
    }
   ],
   "source": [
    "df_twitter.head()"
   ]
  },
  {
   "cell_type": "code",
   "execution_count": 18,
   "id": "863bcf44-e555-4980-840d-088080cdaf9c",
   "metadata": {
    "id": "863bcf44-e555-4980-840d-088080cdaf9c"
   },
   "outputs": [],
   "source": [
    "input_data = pd.concat([df_reddit,df_twitter]).groupby(\"date\").aggregate({\n",
    "    \"content\": concatenate_content_values,\n",
    "    \"popularity\" : \"sum\"\n",
    "})"
   ]
  },
  {
   "cell_type": "code",
   "execution_count": 19,
   "id": "646eb0e7-d37a-4db4-87a0-c46ffbf433bb",
   "metadata": {
    "id": "646eb0e7-d37a-4db4-87a0-c46ffbf433bb"
   },
   "outputs": [],
   "source": [
    "daily_content = input_data.content"
   ]
  },
  {
   "cell_type": "code",
   "execution_count": 20,
   "id": "sR0Pc-IXI1E7",
   "metadata": {
    "colab": {
     "base_uri": "https://localhost:8080/"
    },
    "id": "sR0Pc-IXI1E7",
    "outputId": "5a1e24c8-d467-4d0d-fc55-22cf027c180c"
   },
   "outputs": [
    {
     "data": {
      "text/plain": [
       "date\n",
       "2018-01-01    how you do it? i cant change the onboard to pc...\n",
       "2018-01-02    If you have nvidia experience, it'll prompt yo...\n",
       "2018-01-03    &gt; I'm getting pretty low hashrates on my ri...\n",
       "2018-01-04    http://brianford.tech/2017-10-10-etherMiningRi...\n",
       "2018-01-05    Currently I'm on wifi. I hear ethermine mines ...\n",
       "                                    ...                        \n",
       "2021-10-27    Oh that little thing on the wall is a fan on.\\...\n",
       "2021-10-28    Here are my OC and voltage settings for my FE_...\n",
       "2021-10-29    I have 6 hynix memory 3060ti’s that say otherw...\n",
       "2021-10-30    ROI is equally sentimental and doesn’t pertain...\n",
       "2021-10-31    Whattomine will tell you better than anyone on...\n",
       "Name: content, Length: 1400, dtype: object"
      ]
     },
     "execution_count": 20,
     "metadata": {},
     "output_type": "execute_result"
    }
   ],
   "source": [
    "daily_content"
   ]
  },
  {
   "cell_type": "markdown",
   "id": "b58e1857-4954-482f-9220-995e6c65e40d",
   "metadata": {
    "id": "b58e1857-4954-482f-9220-995e6c65e40d"
   },
   "source": [
    "## Preprocess Data"
   ]
  },
  {
   "cell_type": "code",
   "execution_count": 21,
   "id": "9b7cf761-5ab5-4858-9566-9dbbe0dae282",
   "metadata": {
    "id": "9b7cf761-5ab5-4858-9566-9dbbe0dae282"
   },
   "outputs": [
    {
     "data": {
      "text/plain": [
       "0"
      ]
     },
     "execution_count": 21,
     "metadata": {},
     "output_type": "execute_result"
    }
   ],
   "source": [
    "# check if there exist any empty column\n",
    "daily_content.isna().sum()"
   ]
  },
  {
   "cell_type": "markdown",
   "id": "b8e8b3ba-0f67-4b80-8bf5-b54a7211c7ce",
   "metadata": {
    "id": "b8e8b3ba-0f67-4b80-8bf5-b54a7211c7ce"
   },
   "source": [
    "## Prunning"
   ]
  },
  {
   "cell_type": "code",
   "execution_count": 22,
   "id": "5b94dcf0-b5f1-4865-89cf-0e07e738a02a",
   "metadata": {},
   "outputs": [],
   "source": [
    "stemmer = PorterStemmer()\n",
    "\n",
    "# Adding stemmming with CountVectorizer\n",
    "# https://stackoverflow.com/questions/36182502/add-stemming-support-to-countvectorizer-sklearn\n",
    "analyzer = CountVectorizer().build_analyzer()\n",
    "def stemmed_words(doc):\n",
    "    words = []\n",
    "    for w in analyzer(doc):\n",
    "        \n",
    "        # remove words with number\n",
    "        if len(re.findall('\\d+', w)) > 0:\n",
    "            continue\n",
    "        \n",
    "        # only english letters\n",
    "        w=re.sub('[^a-zA-Z]','',w)    \n",
    "        if w == '':\n",
    "            continue\n",
    "        \n",
    "        # stemming \n",
    "        stemmed_word = stemmer.stem(w)\n",
    "        \n",
    "        words.append(stemmed_word)\n",
    "    return words"
   ]
  },
  {
   "cell_type": "code",
   "execution_count": 23,
   "id": "26571d62-1140-4572-ba81-b2ec04a800d5",
   "metadata": {},
   "outputs": [],
   "source": [
    "# read\n",
    "with open(COUNT_VECTORISER_VAR_FILE, 'rb') as f:\n",
    "    vectorizer = pickle.load(f)"
   ]
  },
  {
   "cell_type": "code",
   "execution_count": 24,
   "id": "38985426-d58d-4f3a-86d5-7cd9aa950f29",
   "metadata": {},
   "outputs": [],
   "source": [
    "# read\n",
    "with open(COUNT_VECTORISER_FILE, 'rb') as f:\n",
    "    x = pickle.load(f)"
   ]
  },
  {
   "cell_type": "code",
   "execution_count": null,
   "id": "7fce1dd6-8587-47a2-a000-fb6e0ee340dd",
   "metadata": {
    "id": "7fce1dd6-8587-47a2-a000-fb6e0ee340dd"
   },
   "outputs": [],
   "source": [
    "# prunning\n",
    "vectorizer = CountVectorizer(\n",
    "    ngram_range=(1, 1),\n",
    "    stop_words=nltk.corpus.stopwords.words(\"english\"),\n",
    "    min_df=0.1,\n",
    "    max_df=1.0,\n",
    "    analyzer=stemmed_words\n",
    ")\n",
    "\n",
    "x = vectorizer.fit_transform(daily_content)\n",
    "\n",
    "# write\n",
    "with open(COUNT_VECTORISER_VAR_FILE, 'wb') as fout:\n",
    "    pickle.dump(vectorizer, fout)\n",
    "    \n",
    "# write\n",
    "with open(COUNT_VECTORISER_FILE, 'wb') as fout:\n",
    "    pickle.dump(x, fout)"
   ]
  },
  {
   "cell_type": "code",
   "execution_count": 25,
   "id": "472b5dff-e3a2-402c-a940-d0e2fc3bdcf5",
   "metadata": {
    "id": "472b5dff-e3a2-402c-a940-d0e2fc3bdcf5"
   },
   "outputs": [
    {
     "name": "stdout",
     "output_type": "stream",
     "text": [
      "7176 features\n"
     ]
    }
   ],
   "source": [
    "print(f\"{len(vectorizer.get_feature_names())} features\")"
   ]
  },
  {
   "cell_type": "code",
   "execution_count": 26,
   "id": "45243dc5-3fe3-4a63-9ccb-526d46c78e51",
   "metadata": {
    "id": "45243dc5-3fe3-4a63-9ccb-526d46c78e51"
   },
   "outputs": [],
   "source": [
    "y = df_binance.label"
   ]
  },
  {
   "cell_type": "markdown",
   "id": "b30fa93c-d15f-4479-b8dc-11bab1f7a6ca",
   "metadata": {
    "id": "b30fa93c-d15f-4479-b8dc-11bab1f7a6ca"
   },
   "source": [
    "### Training"
   ]
  },
  {
   "cell_type": "code",
   "execution_count": 27,
   "id": "57d83d82-479f-417b-ae3b-a2fceb2f0c16",
   "metadata": {
    "id": "57d83d82-479f-417b-ae3b-a2fceb2f0c16"
   },
   "outputs": [],
   "source": [
    "y[y == 0] = 1"
   ]
  },
  {
   "cell_type": "code",
   "execution_count": 28,
   "id": "275c31e3-9da6-49a1-80bc-faa30fe9bb23",
   "metadata": {
    "id": "275c31e3-9da6-49a1-80bc-faa30fe9bb23"
   },
   "outputs": [],
   "source": [
    "Xtrain, Xtest, ytrain, ytest = train_test_split(x,y,test_size=0.2)"
   ]
  },
  {
   "cell_type": "code",
   "execution_count": 40,
   "id": "68b98b8c-93af-4c77-be74-7b76ca376c4d",
   "metadata": {},
   "outputs": [],
   "source": [
    "knn_model = []\n",
    "mean_error = []\n",
    "std_error = []\n",
    "k_range = range(5,701, 10)\n",
    "\n",
    "for index, k in enumerate(k_range):    \n",
    "    knn_model.append( KNeighborsClassifier(n_neighbors=k, weights='uniform') )\n",
    "    temp = []\n",
    "    kf = KFold(n_splits=5)\n",
    "    for train,test in kf.split(Xtrain):\n",
    "        knn_model[index].fit(Xtrain[train], ytrain[train])\n",
    "        ypred = knn_model[index].predict(Xtrain[test])\n",
    "        temp.append( f1_score(ytrain[test], ypred) )\n",
    "    mean_error.append(np.array(temp).mean())\n",
    "    std_error.append(np.array(temp).std())"
   ]
  },
  {
   "cell_type": "code",
   "execution_count": 41,
   "id": "dedfa423-c5db-42f4-b690-a0480b83dfd3",
   "metadata": {},
   "outputs": [],
   "source": [
    "# write\n",
    "with open(KNN_MODELS_CV_K, 'wb') as fout:\n",
    "    pickle.dump(knn_model, fout)"
   ]
  },
  {
   "cell_type": "code",
   "execution_count": 42,
   "id": "810d2150-afb7-4338-be5d-efab1419f765",
   "metadata": {},
   "outputs": [
    {
     "data": {
      "image/png": "[encoded data removed]",
      "text/plain": [
       "<Figure size 432x288 with 1 Axes>"
      ]
     },
     "metadata": {
      "needs_background": "light"
     },
     "output_type": "display_data"
    }
   ],
   "source": [
    "fig = plt.figure()\n",
    "plt.errorbar(k_range, mean_error, yerr=std_error)\n",
    "plt.xlabel('K')\n",
    "plt.ylabel('F1 Score')\n",
    "plt.savefig(os.path.join(FIGURE_DIR,\"knn_cv_k\"))\n",
    "plt.show()"
   ]
  },
  {
   "cell_type": "code",
   "execution_count": 53,
   "id": "9e54fec8-7aac-4f93-965c-232d1ae4b2ae",
   "metadata": {},
   "outputs": [
    {
     "name": "stdout",
     "output_type": "stream",
     "text": [
      "465\n"
     ]
    }
   ],
   "source": [
    "optimal_k = k_range[np.argmax(mean_error)]\n",
    "print(optimal_k)"
   ]
  },
  {
   "cell_type": "code",
   "execution_count": 54,
   "id": "WKA77OjtyKWB",
   "metadata": {
    "colab": {
     "base_uri": "https://localhost:8080/"
    },
    "id": "WKA77OjtyKWB",
    "outputId": "7c388b61-245a-485d-ae59-444ea5ebc664"
   },
   "outputs": [
    {
     "data": {
      "text/plain": [
       "KNeighborsClassifier(n_neighbors=465)"
      ]
     },
     "execution_count": 54,
     "metadata": {},
     "output_type": "execute_result"
    }
   ],
   "source": [
    "FIXED_k = 465\n",
    "\n",
    "knn_model = KNeighborsClassifier(n_neighbors=FIXED_k, weights='uniform')\n",
    "knn_model.fit(Xtrain, ytrain)"
   ]
  },
  {
   "cell_type": "code",
   "execution_count": 55,
   "id": "5c05dc84-ae06-4a33-bc5d-9016551b75af",
   "metadata": {},
   "outputs": [],
   "source": [
    "# write\n",
    "with open(KNN_FILE, 'wb') as fout:\n",
    "    pickle.dump(knn_model, fout)"
   ]
  },
  {
   "cell_type": "code",
   "execution_count": 56,
   "id": "5cf093f8-9804-4ed9-bf7d-a7d7d5d55b98",
   "metadata": {},
   "outputs": [
    {
     "name": "stdout",
     "output_type": "stream",
     "text": [
      "              precision    recall  f1-score   support\n",
      "\n",
      "        -1.0       0.36      0.03      0.06       118\n",
      "         1.0       0.58      0.96      0.72       162\n",
      "\n",
      "    accuracy                           0.57       280\n",
      "   macro avg       0.47      0.50      0.39       280\n",
      "weighted avg       0.49      0.57      0.44       280\n",
      "\n",
      "[[  4 114]\n",
      " [  7 155]]\n"
     ]
    }
   ],
   "source": [
    "ypred = knn_model.predict(Xtest)\n",
    "print(classification_report(ytest,ypred))\n",
    "print(confusion_matrix(ytest,ypred))"
   ]
  },
  {
   "cell_type": "code",
   "execution_count": 58,
   "id": "73de667e-d822-4746-a9bf-a23a36a7dc4f",
   "metadata": {},
   "outputs": [
    {
     "data": {
      "image/png": "[encoded data removed]",
      "text/plain": [
       "<Figure size 432x288 with 1 Axes>"
      ]
     },
     "metadata": {
      "needs_background": "light"
     },
     "output_type": "display_data"
    }
   ],
   "source": [
    "model = knn_model\n",
    "fpr_knn, tpr_knn, _ = roc_curve(ytest, model.predict(Xtest))\n",
    "plt.plot(fpr_knn,tpr_knn)\n",
    "plt.plot([0,1],[0,1], color='green', linestyle='--')\n",
    "plt.legend(['kNN'])\n",
    "plt.savefig(os.path.join(FIGURE_DIR, \"roc_knn\"),bbox_inches='tight')\n",
    "plt.show()"
   ]
  },
  {
   "cell_type": "code",
   "execution_count": 60,
   "id": "11de54a6-0cb2-4a20-8931-1f8f3fe918b6",
   "metadata": {
    "id": "11de54a6-0cb2-4a20-8931-1f8f3fe918b6"
   },
   "outputs": [
    {
     "name": "stdout",
     "output_type": "stream",
     "text": [
      "kNN AUC: 0.49534421427076797\n"
     ]
    }
   ],
   "source": [
    "auc_knn = roc_auc_score(ytest, model.predict(Xtest))\n",
    "print('kNN AUC:',auc_knn)"
   ]
  },
  {
   "cell_type": "markdown",
   "id": "efffffa8-f90b-46b4-a8ed-51324121f706",
   "metadata": {},
   "source": [
    "# Baselines"
   ]
  },
  {
   "cell_type": "code",
   "execution_count": 61,
   "id": "e9feb059-4ea2-458f-bae6-edab45f08857",
   "metadata": {},
   "outputs": [
    {
     "name": "stdout",
     "output_type": "stream",
     "text": [
      "              precision    recall  f1-score   support\n",
      "\n",
      "        -1.0       0.00      0.00      0.00       118\n",
      "         1.0       0.58      1.00      0.73       162\n",
      "\n",
      "    accuracy                           0.58       280\n",
      "   macro avg       0.29      0.50      0.37       280\n",
      "weighted avg       0.33      0.58      0.42       280\n",
      "\n",
      "[[  0 118]\n",
      " [  0 162]]\n",
      "common AUC: 0.5\n"
     ]
    },
    {
     "name": "stderr",
     "output_type": "stream",
     "text": [
      "/Users/nelsonlim/.virtualenv/tcd_ml/lib/python3.7/site-packages/sklearn/metrics/_classification.py:1248: UndefinedMetricWarning: Precision and F-score are ill-defined and being set to 0.0 in labels with no predicted samples. Use `zero_division` parameter to control this behavior.\n",
      "  _warn_prf(average, modifier, msg_start, len(result))\n",
      "/Users/nelsonlim/.virtualenv/tcd_ml/lib/python3.7/site-packages/sklearn/metrics/_classification.py:1248: UndefinedMetricWarning: Precision and F-score are ill-defined and being set to 0.0 in labels with no predicted samples. Use `zero_division` parameter to control this behavior.\n",
      "  _warn_prf(average, modifier, msg_start, len(result))\n",
      "/Users/nelsonlim/.virtualenv/tcd_ml/lib/python3.7/site-packages/sklearn/metrics/_classification.py:1248: UndefinedMetricWarning: Precision and F-score are ill-defined and being set to 0.0 in labels with no predicted samples. Use `zero_division` parameter to control this behavior.\n",
      "  _warn_prf(average, modifier, msg_start, len(result))\n"
     ]
    }
   ],
   "source": [
    "# most frequent\n",
    "common_baseline_model = DummyClassifier(strategy=\"most_frequent\")\n",
    "common_baseline_model.fit(Xtrain, ytrain)\n",
    "common_baseline_prediction = common_baseline_model.predict(Xtest)\n",
    "print(classification_report(ytest,common_baseline_prediction))\n",
    "print(confusion_matrix(ytest,common_baseline_prediction))\n",
    "\n",
    "auc_common = roc_auc_score(ytest, common_baseline_model.predict(Xtest))\n",
    "print('common AUC:',auc_common)"
   ]
  },
  {
   "cell_type": "code",
   "execution_count": 65,
   "id": "c50d5bde-8cb9-4164-b185-aacb5e7e5728",
   "metadata": {},
   "outputs": [
    {
     "name": "stdout",
     "output_type": "stream",
     "text": [
      "              precision    recall  f1-score   support\n",
      "\n",
      "        -1.0       0.44      0.50      0.47       118\n",
      "         1.0       0.60      0.54      0.56       162\n",
      "\n",
      "    accuracy                           0.52       280\n",
      "   macro avg       0.52      0.52      0.52       280\n",
      "weighted avg       0.53      0.52      0.52       280\n",
      "\n",
      "[[59 59]\n",
      " [75 87]]\n",
      "random AUC: 0.5185185185185186\n"
     ]
    }
   ],
   "source": [
    "random_baseline_model = DummyClassifier(strategy=\"uniform\", random_state=1 )\n",
    "random_baseline_model.fit(Xtrain, ytrain)\n",
    "random_baseline_prediction = random_baseline_model.predict(Xtest)\n",
    "print(classification_report(ytest,random_baseline_prediction))\n",
    "print(confusion_matrix(ytest,random_baseline_prediction))\n",
    "\n",
    "auc_random = roc_auc_score(ytest, random_baseline_model.predict(Xtest))\n",
    "print('random AUC:',auc_random)"
   ]
  },
  {
   "cell_type": "code",
   "execution_count": 66,
   "id": "58eb6f40-b0a7-4668-a920-34345710fca0",
   "metadata": {},
   "outputs": [
    {
     "data": {
      "image/png": "[encoded data removed]",
      "text/plain": [
       "<Figure size 432x288 with 1 Axes>"
      ]
     },
     "metadata": {
      "needs_background": "light"
     },
     "output_type": "display_data"
    }
   ],
   "source": [
    "fpr_common, tpr_common, _ = roc_curve(ytest, common_baseline_model.predict(Xtest))\n",
    "fpr_random, tpr_random, _ = roc_curve(ytest, random_baseline_model.predict(Xtest))\n",
    "plt.plot(fpr_knn,tpr_knn, c='blue')\n",
    "plt.plot(fpr_common,tpr_common, c='red')\n",
    "plt.plot(fpr_random,tpr_random, c='teal')\n",
    "plt.plot([0,1],[0,1], color='green', linestyle='--')\n",
    "plt.legend(['KNN', \"Common\", \"Random\"])\n",
    "plt.xlabel('False positive rate')\n",
    "plt.ylabel('True positive rate')\n",
    "plt.savefig(os.path.join(FIGURE_DIR, \"knn_with_baselines\"),bbox_inches='tight')\n",
    "plt.show()"
   ]
  },
  {
   "cell_type": "code",
   "execution_count": null,
   "id": "d3fbe96d-beed-42fa-9d43-64a67dc94a16",
   "metadata": {},
   "outputs": [],
   "source": []
  }
 ],
 "metadata": {
  "colab": {
   "collapsed_sections": [],
   "name": "notebook.ipynb",
   "provenance": []
  },
  "kernelspec": {
   "display_name": "Python 3 (ipykernel)",
   "language": "python",
   "name": "python3"
  },
  "language_info": {
   "codemirror_mode": {
    "name": "ipython",
    "version": 3
   },
   "file_extension": ".py",
   "mimetype": "text/x-python",
   "name": "python",
   "nbconvert_exporter": "python",
   "pygments_lexer": "ipython3",
   "version": "3.7.10"
  }
 },
 "nbformat": 4,
 "nbformat_minor": 5
}
