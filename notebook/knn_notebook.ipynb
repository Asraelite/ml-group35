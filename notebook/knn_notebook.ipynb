{
  "nbformat": 4,
  "nbformat_minor": 5,
  "metadata": {
    "kernelspec": {
      "display_name": "Python 3 (ipykernel)",
      "language": "python",
      "name": "python3"
    },
    "language_info": {
      "codemirror_mode": {
        "name": "ipython",
        "version": 3
      },
      "file_extension": ".py",
      "mimetype": "text/x-python",
      "name": "python",
      "nbconvert_exporter": "python",
      "pygments_lexer": "ipython3",
      "version": "3.7.10"
    },
    "colab": {
      "name": "notebook.ipynb",
      "provenance": [],
      "collapsed_sections": []
    }
  },
  "cells": [
    {
      "cell_type": "code",
      "metadata": {
        "colab": {
          "base_uri": "https://localhost:8080/"
        },
        "id": "68f4e3e1-a33b-4ce5-ac03-b653133ede6c",
        "outputId": "5a49df03-97a3-4ace-c059-a9ae0ef8c042"
      },
      "source": [
        "import pandas as pd\n",
        "import os\n",
        "import numpy as np\n",
        "import nltk\n",
        "from sklearn.feature_extraction.text import CountVectorizer \n",
        "from sklearn.model_selection import train_test_split\n",
        "from sklearn.model_selection import cross_val_score\n",
        "from sklearn.svm import LinearSVC\n",
        "from sklearn import metrics\n",
        "from sklearn.metrics import confusion_matrix, classification_report\n",
        "from nltk.stem import PorterStemmer\n",
        "import re\n",
        "\n",
        "from sklearn.model_selection import KFold, train_test_split\n",
        "import numpy as np\n",
        "from sklearn.metrics import f1_score, mean_squared_error, accuracy_score, confusion_matrix, roc_curve\n",
        "from sklearn.neighbors import KNeighborsClassifier\n",
        "nltk.download('stopwords')"
      ],
      "id": "68f4e3e1-a33b-4ce5-ac03-b653133ede6c",
      "execution_count": null,
      "outputs": [
        {
          "output_type": "stream",
          "name": "stdout",
          "text": [
            "[nltk_data] Downloading package stopwords to /root/nltk_data...\n",
            "[nltk_data]   Unzipping corpora/stopwords.zip.\n"
          ]
        },
        {
          "output_type": "execute_result",
          "data": {
            "text/plain": [
              "True"
            ]
          },
          "metadata": {},
          "execution_count": 2
        }
      ]
    },
    {
      "cell_type": "code",
      "metadata": {
        "id": "27a933f2-e041-46f6-8f6e-f9f1728586c8"
      },
      "source": [
        "# change\n",
        "BINANCE_DIR = \"/content/drive/MyDrive/ML project data\"\n",
        "TWITTER_DIR = \"/content/drive/MyDrive/ML project data\"\n",
        "REDDIT_DIR = \"/content/drive/MyDrive/ML project data\"\n",
        "\n",
        "TWITTER_FILE = \"twitter.csv\"\n",
        "REDDIT_FILE  = \"reddit.csv\"\n",
        "BINANCE_FILE = \"binance.csv\"\n",
        "# dont change\n",
        "BINANCE_EXTENSION = \"csv\"\n",
        "\n",
        "START_DATE = \"2018-01-01\"\n",
        "END_DATE = \"2021-10-31\""
      ],
      "id": "27a933f2-e041-46f6-8f6e-f9f1728586c8",
      "execution_count": null,
      "outputs": []
    },
    {
      "cell_type": "code",
      "metadata": {
        "colab": {
          "base_uri": "https://localhost:8080/"
        },
        "id": "9sNCjj--DK7y",
        "outputId": "80b6bec0-fadb-43dd-c792-947d2d43e4f8"
      },
      "source": [
        "from google.colab import drive\n",
        "drive.mount('/content/drive')"
      ],
      "id": "9sNCjj--DK7y",
      "execution_count": null,
      "outputs": [
        {
          "output_type": "stream",
          "name": "stdout",
          "text": [
            "Mounted at /content/drive\n"
          ]
        }
      ]
    },
    {
      "cell_type": "code",
      "metadata": {
        "id": "613549d7-57c7-417c-8e2d-1e7e09ef1969"
      },
      "source": [
        "def concatenate_content_values(content_list):\n",
        "\treturn content_list.str.cat(sep=\" \")"
      ],
      "id": "613549d7-57c7-417c-8e2d-1e7e09ef1969",
      "execution_count": null,
      "outputs": []
    },
    {
      "cell_type": "markdown",
      "metadata": {
        "id": "c085e0ea-d6f7-4cff-879d-eca098349710"
      },
      "source": [
        "# Dataset"
      ],
      "id": "c085e0ea-d6f7-4cff-879d-eca098349710"
    },
    {
      "cell_type": "markdown",
      "metadata": {
        "id": "0dbaae04-6980-4b27-a698-0b3d376057df"
      },
      "source": [
        "### Binance"
      ],
      "id": "0dbaae04-6980-4b27-a698-0b3d376057df"
    },
    {
      "cell_type": "code",
      "metadata": {
        "id": "f654b7e2-ad14-42a0-a9b2-23601c627668"
      },
      "source": [
        "# load binance data\n",
        "df_binance = pd.read_csv(  os.path.join(BINANCE_DIR, BINANCE_FILE), lineterminator='\\n' )\n",
        "\n",
        "# convert time to date obj\n",
        "df_binance['time'] = pd.to_datetime(df_binance['time'])\n",
        "\n",
        "# change index to time\n",
        "df_binance = df_binance.set_index('time')\n",
        "\n",
        "# filter date range\n",
        "df_binance = df_binance.loc[START_DATE:END_DATE]"
      ],
      "id": "f654b7e2-ad14-42a0-a9b2-23601c627668",
      "execution_count": null,
      "outputs": []
    },
    {
      "cell_type": "code",
      "metadata": {
        "colab": {
          "base_uri": "https://localhost:8080/",
          "height": 237
        },
        "id": "w2gRCkywISZh",
        "outputId": "ffb34c86-3199-4b8c-b200-8192da0b3e55"
      },
      "source": [
        "df_binance.head()"
      ],
      "id": "w2gRCkywISZh",
      "execution_count": null,
      "outputs": [
        {
          "output_type": "execute_result",
          "data": {
            "text/html": [
              "<div>\n",
              "<style scoped>\n",
              "    .dataframe tbody tr th:only-of-type {\n",
              "        vertical-align: middle;\n",
              "    }\n",
              "\n",
              "    .dataframe tbody tr th {\n",
              "        vertical-align: top;\n",
              "    }\n",
              "\n",
              "    .dataframe thead th {\n",
              "        text-align: right;\n",
              "    }\n",
              "</style>\n",
              "<table border=\"1\" class=\"dataframe\">\n",
              "  <thead>\n",
              "    <tr style=\"text-align: right;\">\n",
              "      <th></th>\n",
              "      <th>price_mean</th>\n",
              "      <th>price_std</th>\n",
              "      <th>qty</th>\n",
              "      <th>label</th>\n",
              "    </tr>\n",
              "    <tr>\n",
              "      <th>time</th>\n",
              "      <th></th>\n",
              "      <th></th>\n",
              "      <th></th>\n",
              "      <th></th>\n",
              "    </tr>\n",
              "  </thead>\n",
              "  <tbody>\n",
              "    <tr>\n",
              "      <th>2018-01-01</th>\n",
              "      <td>743.270688</td>\n",
              "      <td>10.753432</td>\n",
              "      <td>53909.25885</td>\n",
              "      <td>0.0</td>\n",
              "    </tr>\n",
              "    <tr>\n",
              "      <th>2018-01-02</th>\n",
              "      <td>845.150582</td>\n",
              "      <td>22.808532</td>\n",
              "      <td>113257.78355</td>\n",
              "      <td>1.0</td>\n",
              "    </tr>\n",
              "    <tr>\n",
              "      <th>2018-01-03</th>\n",
              "      <td>878.817822</td>\n",
              "      <td>28.050939</td>\n",
              "      <td>89041.45688</td>\n",
              "      <td>1.0</td>\n",
              "    </tr>\n",
              "    <tr>\n",
              "      <th>2018-01-04</th>\n",
              "      <td>949.332142</td>\n",
              "      <td>27.646329</td>\n",
              "      <td>102894.47384</td>\n",
              "      <td>1.0</td>\n",
              "    </tr>\n",
              "    <tr>\n",
              "      <th>2018-01-05</th>\n",
              "      <td>982.219534</td>\n",
              "      <td>25.293904</td>\n",
              "      <td>97374.01630</td>\n",
              "      <td>1.0</td>\n",
              "    </tr>\n",
              "  </tbody>\n",
              "</table>\n",
              "</div>"
            ],
            "text/plain": [
              "            price_mean  price_std           qty  label\n",
              "time                                                  \n",
              "2018-01-01  743.270688  10.753432   53909.25885    0.0\n",
              "2018-01-02  845.150582  22.808532  113257.78355    1.0\n",
              "2018-01-03  878.817822  28.050939   89041.45688    1.0\n",
              "2018-01-04  949.332142  27.646329  102894.47384    1.0\n",
              "2018-01-05  982.219534  25.293904   97374.01630    1.0"
            ]
          },
          "metadata": {},
          "execution_count": 8
        }
      ]
    },
    {
      "cell_type": "markdown",
      "metadata": {
        "id": "c32f0abb-eff4-4b85-aa1e-ef46fcefc386"
      },
      "source": [
        "### Reddit"
      ],
      "id": "c32f0abb-eff4-4b85-aa1e-ef46fcefc386"
    },
    {
      "cell_type": "code",
      "metadata": {
        "id": "5f85ebf6-8d92-441e-b97f-db2bbb67bb04"
      },
      "source": [
        "# read reddit\n",
        "df_reddit = pd.read_csv(  os.path.join(REDDIT_DIR, REDDIT_FILE), lineterminator='\\n' )\n",
        "\n",
        "# convert to date obj\n",
        "df_reddit['date'] = pd.to_datetime(df_reddit['date'])\n",
        "\n",
        "# Join all reddit posts for each day into one big string\n",
        "df_reddit = df_reddit.groupby(\"date\").aggregate({\n",
        "    \"content\": concatenate_content_values,\n",
        "    \"popularity\" : \"sum\"\n",
        "})\n",
        "\n",
        "# filter date range\n",
        "df_reddit = df_reddit.loc[START_DATE:END_DATE]"
      ],
      "id": "5f85ebf6-8d92-441e-b97f-db2bbb67bb04",
      "execution_count": null,
      "outputs": []
    },
    {
      "cell_type": "code",
      "metadata": {
        "colab": {
          "base_uri": "https://localhost:8080/",
          "height": 237
        },
        "id": "9c6c9bb9-ad9a-468a-801e-0b04469a6837",
        "outputId": "a6af7b8e-c83a-4762-9c64-a3bd983257e1"
      },
      "source": [
        "df_reddit.head()"
      ],
      "id": "9c6c9bb9-ad9a-468a-801e-0b04469a6837",
      "execution_count": null,
      "outputs": [
        {
          "output_type": "execute_result",
          "data": {
            "text/html": [
              "<div>\n",
              "<style scoped>\n",
              "    .dataframe tbody tr th:only-of-type {\n",
              "        vertical-align: middle;\n",
              "    }\n",
              "\n",
              "    .dataframe tbody tr th {\n",
              "        vertical-align: top;\n",
              "    }\n",
              "\n",
              "    .dataframe thead th {\n",
              "        text-align: right;\n",
              "    }\n",
              "</style>\n",
              "<table border=\"1\" class=\"dataframe\">\n",
              "  <thead>\n",
              "    <tr style=\"text-align: right;\">\n",
              "      <th></th>\n",
              "      <th>content</th>\n",
              "      <th>popularity</th>\n",
              "    </tr>\n",
              "    <tr>\n",
              "      <th>date</th>\n",
              "      <th></th>\n",
              "      <th></th>\n",
              "    </tr>\n",
              "  </thead>\n",
              "  <tbody>\n",
              "    <tr>\n",
              "      <th>2018-01-01</th>\n",
              "      <td>how you do it? i cant change the onboard to pc...</td>\n",
              "      <td>2.104167</td>\n",
              "    </tr>\n",
              "    <tr>\n",
              "      <th>2018-01-02</th>\n",
              "      <td>If you have nvidia experience, it'll prompt yo...</td>\n",
              "      <td>2.432655</td>\n",
              "    </tr>\n",
              "    <tr>\n",
              "      <th>2018-01-03</th>\n",
              "      <td>&amp;gt; I'm getting pretty low hashrates on my ri...</td>\n",
              "      <td>1.912791</td>\n",
              "    </tr>\n",
              "    <tr>\n",
              "      <th>2018-01-04</th>\n",
              "      <td>http://brianford.tech/2017-10-10-etherMiningRi...</td>\n",
              "      <td>2.580911</td>\n",
              "    </tr>\n",
              "    <tr>\n",
              "      <th>2018-01-05</th>\n",
              "      <td>Currently I'm on wifi. I hear ethermine mines ...</td>\n",
              "      <td>2.102229</td>\n",
              "    </tr>\n",
              "  </tbody>\n",
              "</table>\n",
              "</div>"
            ],
            "text/plain": [
              "                                                      content  popularity\n",
              "date                                                                     \n",
              "2018-01-01  how you do it? i cant change the onboard to pc...    2.104167\n",
              "2018-01-02  If you have nvidia experience, it'll prompt yo...    2.432655\n",
              "2018-01-03  &gt; I'm getting pretty low hashrates on my ri...    1.912791\n",
              "2018-01-04  http://brianford.tech/2017-10-10-etherMiningRi...    2.580911\n",
              "2018-01-05  Currently I'm on wifi. I hear ethermine mines ...    2.102229"
            ]
          },
          "metadata": {},
          "execution_count": 8
        }
      ]
    },
    {
      "cell_type": "markdown",
      "metadata": {
        "id": "bbb6ca8d-0a75-4e80-9c59-e831dfc6c10f"
      },
      "source": [
        "### Twitter"
      ],
      "id": "bbb6ca8d-0a75-4e80-9c59-e831dfc6c10f"
    },
    {
      "cell_type": "code",
      "metadata": {
        "id": "8a7b8fdd-3280-4b25-8156-68e2dd27eea7"
      },
      "source": [
        "# load twitter data\n",
        "df_twitter = pd.read_csv( os.path.join(TWITTER_DIR, TWITTER_FILE), lineterminator=\"\\n\")\n",
        "\n",
        "# convert to date obj\n",
        "df_twitter['date'] = pd.to_datetime(df_twitter['date'])\n",
        "\n",
        "# Join all tweets for each day into one big string\n",
        "df_twitter = df_twitter.groupby(\"date\").aggregate({\n",
        "    \"content\": concatenate_content_values,\n",
        "    \"popularity\" : \"sum\"\n",
        "})\n",
        "\n",
        "# filter date range\n",
        "df_twitter = df_twitter.loc[START_DATE:END_DATE]"
      ],
      "id": "8a7b8fdd-3280-4b25-8156-68e2dd27eea7",
      "execution_count": null,
      "outputs": []
    },
    {
      "cell_type": "code",
      "metadata": {
        "colab": {
          "base_uri": "https://localhost:8080/",
          "height": 237
        },
        "id": "76495f6a-dc43-4884-a8ca-ebdc4fcb667d",
        "outputId": "d468063b-5458-4240-d3ba-9c63a6c8061f"
      },
      "source": [
        "df_twitter.head()"
      ],
      "id": "76495f6a-dc43-4884-a8ca-ebdc4fcb667d",
      "execution_count": null,
      "outputs": [
        {
          "output_type": "execute_result",
          "data": {
            "text/html": [
              "<div>\n",
              "<style scoped>\n",
              "    .dataframe tbody tr th:only-of-type {\n",
              "        vertical-align: middle;\n",
              "    }\n",
              "\n",
              "    .dataframe tbody tr th {\n",
              "        vertical-align: top;\n",
              "    }\n",
              "\n",
              "    .dataframe thead th {\n",
              "        text-align: right;\n",
              "    }\n",
              "</style>\n",
              "<table border=\"1\" class=\"dataframe\">\n",
              "  <thead>\n",
              "    <tr style=\"text-align: right;\">\n",
              "      <th></th>\n",
              "      <th>content</th>\n",
              "      <th>popularity</th>\n",
              "    </tr>\n",
              "    <tr>\n",
              "      <th>date</th>\n",
              "      <th></th>\n",
              "      <th></th>\n",
              "    </tr>\n",
              "  </thead>\n",
              "  <tbody>\n",
              "    <tr>\n",
              "      <th>2018-01-01</th>\n",
              "      <td>#Ethereum trade bot is attempting to sell. Cur...</td>\n",
              "      <td>0.049917</td>\n",
              "    </tr>\n",
              "    <tr>\n",
              "      <th>2018-01-02</th>\n",
              "      <td>#AIRDROP #EtherFlip #FLIP #LIVE @Ethereum_Flip...</td>\n",
              "      <td>0.012856</td>\n",
              "    </tr>\n",
              "    <tr>\n",
              "      <th>2018-01-03</th>\n",
              "      <td>#AIRDROP #EtherFlip #FLIP #LIVE @Ethereum_Flip...</td>\n",
              "      <td>0.068100</td>\n",
              "    </tr>\n",
              "    <tr>\n",
              "      <th>2018-01-04</th>\n",
              "      <td>Estonian enterprises will use the Ethereum blo...</td>\n",
              "      <td>0.025132</td>\n",
              "    </tr>\n",
              "    <tr>\n",
              "      <th>2018-01-05</th>\n",
              "      <td>Update: took 10 hours for my Ethereum payment ...</td>\n",
              "      <td>0.077095</td>\n",
              "    </tr>\n",
              "  </tbody>\n",
              "</table>\n",
              "</div>"
            ],
            "text/plain": [
              "                                                      content  popularity\n",
              "date                                                                     \n",
              "2018-01-01  #Ethereum trade bot is attempting to sell. Cur...    0.049917\n",
              "2018-01-02  #AIRDROP #EtherFlip #FLIP #LIVE @Ethereum_Flip...    0.012856\n",
              "2018-01-03  #AIRDROP #EtherFlip #FLIP #LIVE @Ethereum_Flip...    0.068100\n",
              "2018-01-04  Estonian enterprises will use the Ethereum blo...    0.025132\n",
              "2018-01-05  Update: took 10 hours for my Ethereum payment ...    0.077095"
            ]
          },
          "metadata": {},
          "execution_count": 10
        }
      ]
    },
    {
      "cell_type": "code",
      "metadata": {
        "id": "863bcf44-e555-4980-840d-088080cdaf9c"
      },
      "source": [
        "input_data = pd.concat([df_reddit,df_twitter]).groupby(\"date\").aggregate({\n",
        "    \"content\": concatenate_content_values,\n",
        "    \"popularity\" : \"sum\"\n",
        "})"
      ],
      "id": "863bcf44-e555-4980-840d-088080cdaf9c",
      "execution_count": null,
      "outputs": []
    },
    {
      "cell_type": "code",
      "metadata": {
        "id": "646eb0e7-d37a-4db4-87a0-c46ffbf433bb"
      },
      "source": [
        "daily_content = input_data.content"
      ],
      "id": "646eb0e7-d37a-4db4-87a0-c46ffbf433bb",
      "execution_count": null,
      "outputs": []
    },
    {
      "cell_type": "code",
      "metadata": {
        "colab": {
          "base_uri": "https://localhost:8080/"
        },
        "id": "sR0Pc-IXI1E7",
        "outputId": "5a1e24c8-d467-4d0d-fc55-22cf027c180c"
      },
      "source": [
        "daily_content"
      ],
      "id": "sR0Pc-IXI1E7",
      "execution_count": null,
      "outputs": [
        {
          "output_type": "execute_result",
          "data": {
            "text/plain": [
              "date\n",
              "2018-01-01    how you do it? i cant change the onboard to pc...\n",
              "2018-01-02    If you have nvidia experience, it'll prompt yo...\n",
              "2018-01-03    &gt; I'm getting pretty low hashrates on my ri...\n",
              "2018-01-04    http://brianford.tech/2017-10-10-etherMiningRi...\n",
              "2018-01-05    Currently I'm on wifi. I hear ethermine mines ...\n",
              "                                    ...                        \n",
              "2021-10-27    Oh that little thing on the wall is a fan on.\\...\n",
              "2021-10-28    Here are my OC and voltage settings for my FE_...\n",
              "2021-10-29    I have 6 hynix memory 3060ti’s that say otherw...\n",
              "2021-10-30    ROI is equally sentimental and doesn’t pertain...\n",
              "2021-10-31    Whattomine will tell you better than anyone on...\n",
              "Name: content, Length: 1400, dtype: object"
            ]
          },
          "metadata": {},
          "execution_count": 13
        }
      ]
    },
    {
      "cell_type": "markdown",
      "metadata": {
        "id": "b58e1857-4954-482f-9220-995e6c65e40d"
      },
      "source": [
        "## Preprocess Data"
      ],
      "id": "b58e1857-4954-482f-9220-995e6c65e40d"
    },
    {
      "cell_type": "code",
      "metadata": {
        "id": "9b7cf761-5ab5-4858-9566-9dbbe0dae282"
      },
      "source": [
        "# check if there exist any empty column\n",
        "daily_content.isna().sum()"
      ],
      "id": "9b7cf761-5ab5-4858-9566-9dbbe0dae282",
      "execution_count": null,
      "outputs": []
    },
    {
      "cell_type": "markdown",
      "metadata": {
        "id": "b8e8b3ba-0f67-4b80-8bf5-b54a7211c7ce"
      },
      "source": [
        "## Prunning"
      ],
      "id": "b8e8b3ba-0f67-4b80-8bf5-b54a7211c7ce"
    },
    {
      "cell_type": "code",
      "metadata": {
        "id": "7fce1dd6-8587-47a2-a000-fb6e0ee340dd"
      },
      "source": [
        "stemmer = PorterStemmer()\n",
        "\n",
        "# Adding stemmming with CountVectorizer\n",
        "# https://stackoverflow.com/questions/36182502/add-stemming-support-to-countvectorizer-sklearn\n",
        "analyzer = CountVectorizer().build_analyzer()\n",
        "def stemmed_words(doc):\n",
        "    words = []\n",
        "    for w in analyzer(doc):\n",
        "        \n",
        "        # remove words with number\n",
        "        if len(re.findall('\\d+', w)) > 0:\n",
        "            continue\n",
        "        \n",
        "        # only english letters\n",
        "        w=re.sub('[^a-zA-Z]','',w)    \n",
        "        if w == '':\n",
        "            continue\n",
        "        \n",
        "        # stemming \n",
        "        stemmed_word = stemmer.stem(w)\n",
        "        \n",
        "        words.append(stemmed_word)\n",
        "    return words\n",
        "\n",
        "# prunning\n",
        "vectorizer = CountVectorizer(\n",
        "    ngram_range=(1, 1),\n",
        "    stop_words=nltk.corpus.stopwords.words(\"english\"),\n",
        "    min_df=0.1,\n",
        "    max_df=1.0,\n",
        "    analyzer=stemmed_words\n",
        ")\n",
        "\n",
        "x = vectorizer.fit_transform(daily_content)"
      ],
      "id": "7fce1dd6-8587-47a2-a000-fb6e0ee340dd",
      "execution_count": null,
      "outputs": []
    },
    {
      "cell_type": "code",
      "metadata": {
        "id": "472b5dff-e3a2-402c-a940-d0e2fc3bdcf5"
      },
      "source": [
        "print(f\"{len(vectorizer.get_feature_names())} features\")"
      ],
      "id": "472b5dff-e3a2-402c-a940-d0e2fc3bdcf5",
      "execution_count": null,
      "outputs": []
    },
    {
      "cell_type": "code",
      "metadata": {
        "id": "45243dc5-3fe3-4a63-9ccb-526d46c78e51"
      },
      "source": [
        "y = df_binance.label"
      ],
      "id": "45243dc5-3fe3-4a63-9ccb-526d46c78e51",
      "execution_count": null,
      "outputs": []
    },
    {
      "cell_type": "markdown",
      "metadata": {
        "id": "b30fa93c-d15f-4479-b8dc-11bab1f7a6ca"
      },
      "source": [
        "### Training"
      ],
      "id": "b30fa93c-d15f-4479-b8dc-11bab1f7a6ca"
    },
    {
      "cell_type": "code",
      "metadata": {
        "id": "57d83d82-479f-417b-ae3b-a2fceb2f0c16"
      },
      "source": [
        "y[y == 0] = 1"
      ],
      "id": "57d83d82-479f-417b-ae3b-a2fceb2f0c16",
      "execution_count": null,
      "outputs": []
    },
    {
      "cell_type": "code",
      "metadata": {
        "id": "275c31e3-9da6-49a1-80bc-faa30fe9bb23"
      },
      "source": [
        "Xtrain, Xtest, ytrain, ytest = train_test_split(x,y,test_size=0.2)"
      ],
      "id": "275c31e3-9da6-49a1-80bc-faa30fe9bb23",
      "execution_count": null,
      "outputs": []
    },
    {
      "cell_type": "code",
      "metadata": {
        "id": "4alrNfq2nuaQ"
      },
      "source": [
        "best_models = {}\n",
        "scores_avg = {}\n",
        "\n",
        "from sklearn.model_selection import KFold, train_test_split\n",
        "import numpy as np\n",
        "from sklearn.metrics import f1_score, mean_squared_error, accuracy_score, confusion_matrix, roc_curve\n",
        "from sklearn.neighbors import KNeighborsClassifier\n",
        "for k in range(5,701, 5):\n",
        "        print(k)\n",
        "        kf = KFold(n_splits=5)\n",
        "        scores = []\n",
        "        for train, test in kf.split(x):\n",
        "            model = KNeighborsClassifier(n_neighbors=k, weights='uniform')\n",
        "            model.fit(x[train], y[train])\n",
        "            pred = model.predict(x[test])\n",
        "            scores.append(f1_score(y[test], pred))\n",
        "        scores_avg[k] = sum(scores)/len(scores)\n",
        "    \n",
        "print(f'Dictionary with average f1 scores for every value of k: {scores_avg}')\n",
        "\n",
        "for k, score in scores_avg.items():\n",
        "    if score == max(list(scores_avg.values())):\n",
        "        optmial_k = k\n",
        "        print(f'optimal: k={optmial_k}, f1 score={score}')\n",
        "        break\n"
      ],
      "id": "4alrNfq2nuaQ",
      "execution_count": null,
      "outputs": []
    },
    {
      "cell_type": "code",
      "metadata": {
        "colab": {
          "base_uri": "https://localhost:8080/"
        },
        "id": "WKA77OjtyKWB",
        "outputId": "7c388b61-245a-485d-ae59-444ea5ebc664"
      },
      "source": [
        "FIXED_k = 550\n",
        "print(FIXED_k)\n",
        "knn_model = KNeighborsClassifier(n_neighbors=FIXED_k, weights='uniform')\n",
        "knn_model.fit(Xtrain, ytrain)\n",
        "knn_model_prediction = knn_model.predict(Xtest)\n",
        "knn_model_confusion_matrix = confusion_matrix(ytest, knn_model_prediction)\n",
        "knn_model_accuracy = np.sum(knn_model_confusion_matrix.diagonal()) / np.sum(knn_model_confusion_matrix)"
      ],
      "id": "WKA77OjtyKWB",
      "execution_count": null,
      "outputs": [
        {
          "output_type": "stream",
          "name": "stdout",
          "text": [
            "550\n"
          ]
        }
      ]
    },
    {
      "cell_type": "code",
      "metadata": {
        "colab": {
          "base_uri": "https://localhost:8080/",
          "height": 295
        },
        "id": "9zQIue6v1bpa",
        "outputId": "213cf555-86ca-401a-e058-e1fd4829c146"
      },
      "source": [
        "import matplotlib.pyplot as plt\n",
        "\n",
        "plt.plot( list(scores_avg.keys()), list(scores_avg.values()))\n",
        "plt.xlabel('n neighbors')\n",
        "plt.ylabel('f1 score')\n",
        "plt.title('f1 score vs number of neighbors considered')\n",
        "plt.show()"
      ],
      "id": "9zQIue6v1bpa",
      "execution_count": null,
      "outputs": [
        {
          "output_type": "display_data",
          "data": {
            "image/png": "[encoded data removed]",
            "text/plain": [
              "<Figure size 432x288 with 1 Axes>"
            ]
          },
          "metadata": {
            "needs_background": "light"
          }
        }
      ]
    },
    {
      "cell_type": "code",
      "metadata": {
        "colab": {
          "base_uri": "https://localhost:8080/"
        },
        "id": "8pAPzu2Ly1rq",
        "outputId": "b253f0fc-ed6e-49c7-a1d3-35b8e3c0a363"
      },
      "source": [
        "knn_model_accuracy"
      ],
      "id": "8pAPzu2Ly1rq",
      "execution_count": null,
      "outputs": [
        {
          "output_type": "execute_result",
          "data": {
            "text/plain": [
              "0.5428571428571428"
            ]
          },
          "metadata": {},
          "execution_count": 36
        }
      ]
    },
    {
      "cell_type": "code",
      "metadata": {
        "colab": {
          "base_uri": "https://localhost:8080/"
        },
        "id": "sP3i1f3uy3_V",
        "outputId": "96b70de3-ba77-48df-c7b5-0e681547d705"
      },
      "source": [
        "knn_model_confusion_matrix"
      ],
      "id": "sP3i1f3uy3_V",
      "execution_count": null,
      "outputs": [
        {
          "output_type": "execute_result",
          "data": {
            "text/plain": [
              "array([[ 33,  90],\n",
              "       [ 38, 119]])"
            ]
          },
          "metadata": {},
          "execution_count": 37
        }
      ]
    },
    {
      "cell_type": "markdown",
      "metadata": {
        "id": "faa07541-6954-4226-acf6-7dfab77b7474"
      },
      "source": [
        "svm_model = []\n",
        "mean_error = []\n",
        "std_error = []\n",
        "Ci_range = [0.001, 1.0, 100.0]\n",
        "\n",
        "for index, Ci in enumerate(Ci_range):    \n",
        "    svm_model.append( LinearSVC(C=Ci, max_iter=10000) )\n",
        "    scores = cross_val_score(svm_model[index], Xtrain, ytrain, cv=5, scoring='f1')\n",
        "    mean_error.append(np.array(scores).mean())\n",
        "    std_error.append(np.array(scores).std())    \n",
        "plt.errorbar(Ci_range, mean-error, yerr=std_error, linewidth=3)\n",
        "plt.xlabel('Ci')\n",
        "plt.ylabel('F1 Score')\n",
        "plt.show()"
      ],
      "id": "faa07541-6954-4226-acf6-7dfab77b7474"
    },
    {
      "cell_type": "code",
      "metadata": {
        "id": "92837fce-d5be-45de-8df3-23d617caf49c"
      },
      "source": [
        "FIXED_C = 1\n",
        "\n",
        "model = LinearSVC(C=FIXED_C, max_iter=10000)\n",
        "model.fit(Xtrain,ytrain)\n",
        "ypred = model.predict(Xtest)\n",
        "print(classification_report(ytest,ypred))\n",
        "print(confusion_matrix(ytest,ypred))"
      ],
      "id": "92837fce-d5be-45de-8df3-23d617caf49c",
      "execution_count": null,
      "outputs": []
    },
    {
      "cell_type": "code",
      "metadata": {
        "id": "11de54a6-0cb2-4a20-8931-1f8f3fe918b6"
      },
      "source": [
        ""
      ],
      "id": "11de54a6-0cb2-4a20-8931-1f8f3fe918b6",
      "execution_count": null,
      "outputs": []
    }
  ]
}