{
 "cells": [
  {
   "cell_type": "code",
   "execution_count": 56,
   "id": "68f4e3e1-a33b-4ce5-ac03-b653133ede6c",
   "metadata": {
    "colab": {
     "base_uri": "https://localhost:8080/"
    },
    "id": "68f4e3e1-a33b-4ce5-ac03-b653133ede6c",
    "outputId": "9542a26c-edd4-43f8-c352-7378c9761fa9"
   },
   "outputs": [
    {
     "name": "stderr",
     "output_type": "stream",
     "text": [
      "[nltk_data] Downloading package stopwords to\n",
      "[nltk_data]     /Users/nelsonlim/nltk_data...\n",
      "[nltk_data]   Package stopwords is already up-to-date!\n"
     ]
    }
   ],
   "source": [
    "import pandas as pd\n",
    "import os\n",
    "import numpy as np\n",
    "import nltk\n",
    "from sklearn.feature_extraction.text import CountVectorizer \n",
    "from sklearn.model_selection import train_test_split\n",
    "from sklearn.model_selection import cross_val_score\n",
    "from sklearn.model_selection import cross_validate\n",
    "from sklearn.svm import LinearSVC\n",
    "from sklearn import metrics\n",
    "from sklearn.metrics import confusion_matrix, classification_report, f1_score, roc_curve, roc_auc_score\n",
    "from sklearn.dummy import DummyClassifier\n",
    "from nltk.stem import PorterStemmer\n",
    "import matplotlib.pyplot as plt\n",
    "import re\n",
    "from collections import Counter\n",
    "import pickle\n",
    "from numpy.random import seed\n",
    "nltk.download('stopwords')\n",
    "seed(3)"
   ]
  },
  {
   "cell_type": "code",
   "execution_count": 2,
   "id": "27a933f2-e041-46f6-8f6e-f9f1728586c8",
   "metadata": {
    "id": "27a933f2-e041-46f6-8f6e-f9f1728586c8"
   },
   "outputs": [],
   "source": [
    "# change\n",
    "BINANCE_DIR = \"/Users/nelsonlim/Documents/Trinity College Dublin/Semester 1/Machine Learning/Assignment/Week 5/data/binance/processed/day_discrete\"\n",
    "TWITTER_DIR = \"/Users/nelsonlim/Documents/Trinity College Dublin/Semester 1/Machine Learning/Assignment/Week 5/data/twitter\"\n",
    "REDDIT_DIR = \"/Users/nelsonlim/Documents/Trinity College Dublin/Semester 1/Machine Learning/Assignment/Week 5/data/reddit\"\n",
    "\n",
    "TWITTER_FILE = \"twitter.csv\"\n",
    "REDDIT_FILE  = \"reddit.csv\"\n",
    "\n",
    "FIGURE_DIR = \"/Users/nelsonlim/Documents/Trinity College Dublin/Semester 1/Machine Learning/Assignment/Week 5/notebook/img\"\n",
    "\n",
    "# SAVED MODELS & VARIABLES\n",
    "COUNT_VECTORISER_FILE = \"/Users/nelsonlim/Documents/Trinity College Dublin/Semester 1/Machine Learning/Assignment/Week 5/data/count_vectoriser.pkl\" # x\n",
    "COUNT_VECTORISER_VAR_FILE = \"/Users/nelsonlim/Documents/Trinity College Dublin/Semester 1/Machine Learning/Assignment/Week 5/data/count_vectoriser_var.pkl\" # vectorizer data\n",
    "SVM_FILE = \"/Users/nelsonlim/Documents/Trinity College Dublin/Semester 1/Machine Learning/Assignment/Week 5/data/SVM_model.pkl\"\n",
    "\n",
    "# dont change\n",
    "BINANCE_EXTENSION = \"csv\"\n",
    "\n",
    "START_DATE = \"2018-01-01\"\n",
    "END_DATE = \"2021-10-31\""
   ]
  },
  {
   "cell_type": "code",
   "execution_count": 3,
   "id": "613549d7-57c7-417c-8e2d-1e7e09ef1969",
   "metadata": {
    "id": "613549d7-57c7-417c-8e2d-1e7e09ef1969"
   },
   "outputs": [],
   "source": [
    "def concatenate_content_values(content_list):\n",
    "\treturn content_list.str.cat(sep=\" \")"
   ]
  },
  {
   "cell_type": "markdown",
   "id": "c085e0ea-d6f7-4cff-879d-eca098349710",
   "metadata": {
    "id": "c085e0ea-d6f7-4cff-879d-eca098349710"
   },
   "source": [
    "# Dataset"
   ]
  },
  {
   "cell_type": "markdown",
   "id": "0dbaae04-6980-4b27-a698-0b3d376057df",
   "metadata": {
    "id": "0dbaae04-6980-4b27-a698-0b3d376057df"
   },
   "source": [
    "### Binance"
   ]
  },
  {
   "cell_type": "code",
   "execution_count": 4,
   "id": "f654b7e2-ad14-42a0-a9b2-23601c627668",
   "metadata": {
    "id": "f654b7e2-ad14-42a0-a9b2-23601c627668"
   },
   "outputs": [],
   "source": [
    "# load binance data\n",
    "df_binance_list = []\n",
    "for filename in sorted(os.listdir(BINANCE_DIR)):\n",
    "    if filename.endswith(BINANCE_EXTENSION):\n",
    "        df_binance_list.append(pd.read_csv( os.path.join(BINANCE_DIR,filename)))\n",
    "df_binance = pd.concat(df_binance_list,ignore_index=True)\n",
    "\n",
    "# convert time to date obj\n",
    "df_binance['time'] = pd.to_datetime(df_binance['time'])\n",
    "\n",
    "# change index to time\n",
    "df_binance = df_binance.set_index('time')\n",
    "\n",
    "# filter date range\n",
    "df_binance = df_binance.loc[START_DATE:END_DATE]"
   ]
  },
  {
   "cell_type": "code",
   "execution_count": 5,
   "id": "2b5688b7-4586-467a-b782-8e5c6478a395",
   "metadata": {
    "id": "2b5688b7-4586-467a-b782-8e5c6478a395"
   },
   "outputs": [],
   "source": [
    "price_mean = df_binance['price_mean']\n",
    "binance_time = df_binance.index.strftime(\"%m/%d/%y\").values\n",
    "plot_x = range(len(binance_time))"
   ]
  },
  {
   "cell_type": "code",
   "execution_count": 6,
   "id": "cb506b19-8441-477a-be20-d25de64d441d",
   "metadata": {
    "colab": {
     "base_uri": "https://localhost:8080/",
     "height": 279
    },
    "id": "cb506b19-8441-477a-be20-d25de64d441d",
    "outputId": "5dae29e8-27b9-48bb-abba-97aaae542c0f"
   },
   "outputs": [
    {
     "data": {
      "image/png": "[encoded data removed]",
      "text/plain": [
       "<Figure size 432x288 with 1 Axes>"
      ]
     },
     "metadata": {
      "needs_background": "light"
     },
     "output_type": "display_data"
    }
   ],
   "source": [
    "plt.plot(plot_x, price_mean)   \n",
    "plt.legend(['Ethereum'])\n",
    "plt.xlabel(\"Data Point\")\n",
    "plt.ylabel(\"Mean Price\")\n",
    "plt.savefig(os.path.join(FIGURE_DIR,\"binance_mean_price\"))\n",
    "plt.show()    "
   ]
  },
  {
   "cell_type": "code",
   "execution_count": 7,
   "id": "726089ec-7441-4df2-9b70-40ef7fb99a9c",
   "metadata": {
    "colab": {
     "base_uri": "https://localhost:8080/",
     "height": 279
    },
    "id": "726089ec-7441-4df2-9b70-40ef7fb99a9c",
    "outputId": "d2f6ea99-bde1-4974-dee3-e852e1622907"
   },
   "outputs": [
    {
     "data": {
      "image/png": "[encoded data removed]",
      "text/plain": [
       "<Figure size 432x288 with 1 Axes>"
      ]
     },
     "metadata": {
      "needs_background": "light"
     },
     "output_type": "display_data"
    }
   ],
   "source": [
    "labels = Counter(df_binance['label'].values)\n",
    "labels_keys = list(labels.keys())\n",
    "labels_values = list(labels.values())\n",
    "\n",
    "plt.bar(labels_keys, labels_values)\n",
    "plt.xticks(labels_keys)\n",
    "plt.legend(['Ethereum'])\n",
    "plt.xlabel(\"Label\")\n",
    "plt.ylabel(\"Count\")\n",
    "plt.savefig(os.path.join(FIGURE_DIR,\"binance_label\"))\n",
    "plt.show()"
   ]
  },
  {
   "cell_type": "markdown",
   "id": "c32f0abb-eff4-4b85-aa1e-ef46fcefc386",
   "metadata": {
    "id": "c32f0abb-eff4-4b85-aa1e-ef46fcefc386"
   },
   "source": [
    "### Reddit"
   ]
  },
  {
   "cell_type": "code",
   "execution_count": 8,
   "id": "5f85ebf6-8d92-441e-b97f-db2bbb67bb04",
   "metadata": {
    "id": "5f85ebf6-8d92-441e-b97f-db2bbb67bb04"
   },
   "outputs": [],
   "source": [
    "# read reddit\n",
    "df_reddit = pd.read_csv(  os.path.join(REDDIT_DIR, REDDIT_FILE), lineterminator='\\n' )\n",
    "\n",
    "# convert to date obj\n",
    "df_reddit['date'] = pd.to_datetime(df_reddit['date'])\n",
    "\n",
    "# Join all reddit posts for each day into one big string\n",
    "df_reddit = df_reddit.groupby(\"date\").aggregate({\n",
    "    \"content\": concatenate_content_values,\n",
    "    \"popularity\" : \"sum\"\n",
    "})\n",
    "\n",
    "# filter date range\n",
    "df_reddit = df_reddit.loc[START_DATE:END_DATE]"
   ]
  },
  {
   "cell_type": "markdown",
   "id": "bbb6ca8d-0a75-4e80-9c59-e831dfc6c10f",
   "metadata": {
    "id": "bbb6ca8d-0a75-4e80-9c59-e831dfc6c10f"
   },
   "source": [
    "### Twitter"
   ]
  },
  {
   "cell_type": "code",
   "execution_count": 9,
   "id": "8a7b8fdd-3280-4b25-8156-68e2dd27eea7",
   "metadata": {
    "id": "8a7b8fdd-3280-4b25-8156-68e2dd27eea7"
   },
   "outputs": [],
   "source": [
    "# load twitter data\n",
    "df_twitter = pd.read_csv( os.path.join(TWITTER_DIR, TWITTER_FILE), lineterminator=\"\\n\")\n",
    "\n",
    "# convert to date obj\n",
    "df_twitter['date'] = pd.to_datetime(df_twitter['date'])\n",
    "\n",
    "# Join all tweets for each day into one big string\n",
    "df_twitter = df_twitter.groupby(\"date\").aggregate({\n",
    "    \"content\": concatenate_content_values,\n",
    "    \"popularity\" : \"sum\"\n",
    "})\n",
    "\n",
    "# filter date range\n",
    "df_twitter = df_twitter.loc[START_DATE:END_DATE]"
   ]
  },
  {
   "cell_type": "code",
   "execution_count": 10,
   "id": "863bcf44-e555-4980-840d-088080cdaf9c",
   "metadata": {
    "id": "863bcf44-e555-4980-840d-088080cdaf9c"
   },
   "outputs": [],
   "source": [
    "input_data = pd.concat([df_reddit,df_twitter]).groupby(\"date\").aggregate({\n",
    "    \"content\": concatenate_content_values,\n",
    "    \"popularity\" : \"sum\"\n",
    "})"
   ]
  },
  {
   "cell_type": "code",
   "execution_count": 11,
   "id": "646eb0e7-d37a-4db4-87a0-c46ffbf433bb",
   "metadata": {
    "id": "646eb0e7-d37a-4db4-87a0-c46ffbf433bb"
   },
   "outputs": [],
   "source": [
    "daily_content = input_data.content"
   ]
  },
  {
   "cell_type": "markdown",
   "id": "b58e1857-4954-482f-9220-995e6c65e40d",
   "metadata": {
    "id": "b58e1857-4954-482f-9220-995e6c65e40d"
   },
   "source": [
    "## Preprocess Data"
   ]
  },
  {
   "cell_type": "code",
   "execution_count": 12,
   "id": "9b7cf761-5ab5-4858-9566-9dbbe0dae282",
   "metadata": {
    "colab": {
     "base_uri": "https://localhost:8080/"
    },
    "id": "9b7cf761-5ab5-4858-9566-9dbbe0dae282",
    "outputId": "ea607e45-0ee7-4d79-ce43-1b018039a81b"
   },
   "outputs": [
    {
     "data": {
      "text/plain": [
       "0"
      ]
     },
     "execution_count": 12,
     "metadata": {},
     "output_type": "execute_result"
    }
   ],
   "source": [
    "# check if there exist any empty column\n",
    "daily_content.isna().sum()"
   ]
  },
  {
   "cell_type": "markdown",
   "id": "b8e8b3ba-0f67-4b80-8bf5-b54a7211c7ce",
   "metadata": {
    "id": "b8e8b3ba-0f67-4b80-8bf5-b54a7211c7ce"
   },
   "source": [
    "## Prunning"
   ]
  },
  {
   "cell_type": "code",
   "execution_count": 14,
   "id": "20eb614d-602f-477d-a441-e7a13982431b",
   "metadata": {},
   "outputs": [],
   "source": [
    "stemmer = PorterStemmer()\n",
    "\n",
    "# Adding stemmming with CountVectorizer\n",
    "# https://stackoverflow.com/questions/36182502/add-stemming-support-to-countvectorizer-sklearn\n",
    "analyzer = CountVectorizer().build_analyzer()\n",
    "def stemmed_words(doc):\n",
    "    words = []\n",
    "    for w in analyzer(doc):\n",
    "        \n",
    "        # remove words with number\n",
    "        if len(re.findall('\\d+', w)) > 0:\n",
    "            continue\n",
    "        \n",
    "        # only english letters\n",
    "        w=re.sub('[^a-zA-Z]','',w)    \n",
    "        if w == '':\n",
    "            continue\n",
    "        \n",
    "        # stemming \n",
    "        stemmed_word = stemmer.stem(w)\n",
    "        \n",
    "        words.append(stemmed_word)\n",
    "    return words"
   ]
  },
  {
   "cell_type": "code",
   "execution_count": 15,
   "id": "2c861a73-534c-476a-ad06-6bd75d6525dc",
   "metadata": {},
   "outputs": [],
   "source": [
    "# read\n",
    "with open(COUNT_VECTORISER_VAR_FILE, 'rb') as f:\n",
    "    vectorizer = pickle.load(f)"
   ]
  },
  {
   "cell_type": "code",
   "execution_count": 16,
   "id": "ad008f51-8d34-4d41-ac93-2dfe02c6f688",
   "metadata": {},
   "outputs": [],
   "source": [
    "# read\n",
    "with open(COUNT_VECTORISER_FILE, 'rb') as f:\n",
    "    x = pickle.load(f)"
   ]
  },
  {
   "cell_type": "code",
   "execution_count": 14,
   "id": "7fce1dd6-8587-47a2-a000-fb6e0ee340dd",
   "metadata": {
    "id": "7fce1dd6-8587-47a2-a000-fb6e0ee340dd"
   },
   "outputs": [],
   "source": [
    "# prunning\n",
    "vectorizer = CountVectorizer(\n",
    "    ngram_range=(1, 1),\n",
    "    stop_words=nltk.corpus.stopwords.words(\"english\"),\n",
    "    min_df=0.1,\n",
    "    max_df=1.0,\n",
    "    analyzer=stemmed_words\n",
    ")\n",
    "\n",
    "x = vectorizer.fit_transform(daily_content)"
   ]
  },
  {
   "cell_type": "code",
   "execution_count": 15,
   "id": "5516c844-7a88-4a86-9159-4bddd9212cb4",
   "metadata": {},
   "outputs": [],
   "source": [
    "# write\n",
    "with open(COUNT_VECTORISER_VAR_FILE, 'wb') as fout:\n",
    "    pickle.dump(vectorizer, fout)"
   ]
  },
  {
   "cell_type": "code",
   "execution_count": 16,
   "id": "a556137d-d258-4141-8811-cc0526846f0c",
   "metadata": {},
   "outputs": [],
   "source": [
    "# write\n",
    "with open(COUNT_VECTORISER_FILE, 'wb') as fout:\n",
    "    pickle.dump(x, fout)"
   ]
  },
  {
   "cell_type": "code",
   "execution_count": 18,
   "id": "472b5dff-e3a2-402c-a940-d0e2fc3bdcf5",
   "metadata": {
    "colab": {
     "base_uri": "https://localhost:8080/"
    },
    "id": "472b5dff-e3a2-402c-a940-d0e2fc3bdcf5",
    "outputId": "204b008c-5383-4caf-c9c1-408a0e7ef735"
   },
   "outputs": [
    {
     "name": "stdout",
     "output_type": "stream",
     "text": [
      "7176 features\n"
     ]
    }
   ],
   "source": [
    "print(f\"{len(vectorizer.get_feature_names())} features\")"
   ]
  },
  {
   "cell_type": "code",
   "execution_count": 19,
   "id": "45243dc5-3fe3-4a63-9ccb-526d46c78e51",
   "metadata": {
    "id": "45243dc5-3fe3-4a63-9ccb-526d46c78e51"
   },
   "outputs": [],
   "source": [
    "y = df_binance.label"
   ]
  },
  {
   "cell_type": "markdown",
   "id": "b30fa93c-d15f-4479-b8dc-11bab1f7a6ca",
   "metadata": {
    "id": "b30fa93c-d15f-4479-b8dc-11bab1f7a6ca"
   },
   "source": [
    "### Training"
   ]
  },
  {
   "cell_type": "code",
   "execution_count": 20,
   "id": "57d83d82-479f-417b-ae3b-a2fceb2f0c16",
   "metadata": {
    "id": "57d83d82-479f-417b-ae3b-a2fceb2f0c16"
   },
   "outputs": [],
   "source": [
    "y[y == 0] = 1"
   ]
  },
  {
   "cell_type": "code",
   "execution_count": 21,
   "id": "275c31e3-9da6-49a1-80bc-faa30fe9bb23",
   "metadata": {
    "id": "275c31e3-9da6-49a1-80bc-faa30fe9bb23"
   },
   "outputs": [],
   "source": [
    "Xtrain, Xtest, ytrain, ytest = train_test_split(x,y,test_size=0.2)"
   ]
  },
  {
   "cell_type": "code",
   "execution_count": 89,
   "id": "34076afa-b0e2-4793-9cf7-5dc854e1a158",
   "metadata": {},
   "outputs": [
    {
     "name": "stdout",
     "output_type": "stream",
     "text": [
      "[1.00e-10 5.10e-09 1.01e-08 1.51e-08 2.01e-08 2.51e-08 3.01e-08 3.51e-08\n",
      " 4.01e-08 4.51e-08 5.01e-08 5.51e-08 6.01e-08 6.51e-08 7.01e-08 7.51e-08\n",
      " 8.01e-08 8.51e-08 9.01e-08 9.51e-08]\n"
     ]
    },
    {
     "data": {
      "image/png": "[encoded data removed]",
      "text/plain": [
       "<Figure size 432x288 with 1 Axes>"
      ]
     },
     "metadata": {
      "needs_background": "light"
     },
     "output_type": "display_data"
    }
   ],
   "source": [
    "svm_model = []\n",
    "mean_error = []\n",
    "std_error = []\n",
    "f1_train = []\n",
    "Ci_range = np.arange(0.0000000001, 0.0000001, 0.000000005)\n",
    "print(Ci_range)\n",
    "\n",
    "for index, Ci in enumerate(Ci_range):    \n",
    "    # 5 fold cross validation\n",
    "    svm_model.append( LinearSVC(C=Ci, dual=False) )\n",
    "    scores = cross_validate(svm_model[index], Xtrain, ytrain, cv=5, scoring='f1',return_train_score=True)\n",
    "    test_score = scores['test_score']\n",
    "    train_score = scores['train_score']\n",
    "    mean_error.append(np.array(test_score).mean())\n",
    "    std_error.append(np.array(test_score).std())\n",
    "    f1_train.append(np.array(train_score).mean())\n"
   ]
  },
  {
   "cell_type": "code",
   "execution_count": 106,
   "id": "29e18a9d-7ed0-4526-928c-d85d2bad114f",
   "metadata": {},
   "outputs": [
    {
     "data": {
      "image/png": "[encoded data removed]",
      "text/plain": [
       "<Figure size 432x288 with 1 Axes>"
      ]
     },
     "metadata": {
      "needs_background": "light"
     },
     "output_type": "display_data"
    }
   ],
   "source": [
    "plt.plot(Ci_range, f1_train)    \n",
    "plt.errorbar(Ci_range,mean_error,yerr=std_error,linewidth=3)\n",
    "plt.legend(['Train data','Test data'])\n",
    "plt.xlabel('Ci')\n",
    "plt.ylabel('F1 Score')\n",
    "plt.savefig(os.path.join(FIGURE_DIR,\"svm_cv_ci\"))\n",
    "plt.show()"
   ]
  },
  {
   "cell_type": "code",
   "execution_count": 108,
   "id": "caba2bb9-e5c0-4ecb-afda-1fa285c4e554",
   "metadata": {},
   "outputs": [],
   "source": [
    "# read\n",
    "with open(SVM_FILE, 'rb') as f:\n",
    "    model = pickle.load(f)"
   ]
  },
  {
   "cell_type": "code",
   "execution_count": 109,
   "id": "92837fce-d5be-45de-8df3-23d617caf49c",
   "metadata": {
    "colab": {
     "base_uri": "https://localhost:8080/"
    },
    "id": "92837fce-d5be-45de-8df3-23d617caf49c",
    "outputId": "727fdfd5-3547-4c9e-f562-1c6da1f1191b"
   },
   "outputs": [
    {
     "data": {
      "text/plain": [
       "LinearSVC(C=1.01e-08, dual=False, max_iter=10000)"
      ]
     },
     "execution_count": 109,
     "metadata": {},
     "output_type": "execute_result"
    }
   ],
   "source": [
    "FIXED_C = 0.0000000101\n",
    "\n",
    "model = LinearSVC(C=FIXED_C, dual=False, max_iter=10000)\n",
    "model.fit(Xtrain,ytrain)"
   ]
  },
  {
   "cell_type": "code",
   "execution_count": 110,
   "id": "a6a224e3-c973-4525-9f69-b6122a42747c",
   "metadata": {},
   "outputs": [
    {
     "name": "stdout",
     "output_type": "stream",
     "text": [
      "              precision    recall  f1-score   support\n",
      "\n",
      "        -1.0       0.80      0.10      0.18       118\n",
      "         1.0       0.60      0.98      0.74       162\n",
      "\n",
      "    accuracy                           0.61       280\n",
      "   macro avg       0.70      0.54      0.46       280\n",
      "weighted avg       0.68      0.61      0.51       280\n",
      "\n",
      "[[ 12 106]\n",
      " [  3 159]]\n"
     ]
    }
   ],
   "source": [
    "ypred = model.predict(Xtest)\n",
    "print(classification_report(ytest,ypred))\n",
    "print(confusion_matrix(ytest,ypred))"
   ]
  },
  {
   "cell_type": "code",
   "execution_count": 111,
   "id": "5V8-ZBfsozf8",
   "metadata": {
    "id": "5V8-ZBfsozf8"
   },
   "outputs": [],
   "source": [
    "# write\n",
    "with open(SVM_FILE, 'wb') as fout:\n",
    "    pickle.dump(model, fout)"
   ]
  },
  {
   "cell_type": "code",
   "execution_count": 112,
   "id": "11de54a6-0cb2-4a20-8931-1f8f3fe918b6",
   "metadata": {
    "colab": {
     "base_uri": "https://localhost:8080/",
     "height": 265
    },
    "id": "11de54a6-0cb2-4a20-8931-1f8f3fe918b6",
    "outputId": "6e166ac7-e293-4b06-f125-2f38d227afde"
   },
   "outputs": [
    {
     "data": {
      "image/png": "[encoded data removed]",
      "text/plain": [
       "<Figure size 432x288 with 1 Axes>"
      ]
     },
     "metadata": {
      "needs_background": "light"
     },
     "output_type": "display_data"
    }
   ],
   "source": [
    "fpr_svm, tpr_svm, _ = roc_curve(ytest, model.decision_function(Xtest))\n",
    "plt.plot(fpr_svm,tpr_svm)\n",
    "plt.plot([0,1],[0,1], color='green', linestyle='--')\n",
    "plt.legend(['SVM'])\n",
    "plt.savefig(os.path.join(FIGURE_DIR, \"roc_svm\"),bbox_inches='tight')\n",
    "plt.show()"
   ]
  },
  {
   "cell_type": "code",
   "execution_count": 113,
   "id": "Xd9p9wYBoj-_",
   "metadata": {
    "colab": {
     "base_uri": "https://localhost:8080/"
    },
    "id": "Xd9p9wYBoj-_",
    "outputId": "5fecda53-94bc-4a3e-caf8-a8d3c0c7d7d7"
   },
   "outputs": [
    {
     "name": "stdout",
     "output_type": "stream",
     "text": [
      "svm AUC: 0.5916509730069053\n"
     ]
    }
   ],
   "source": [
    "auc_svm = roc_auc_score(ytest, model.decision_function(Xtest))\n",
    "print('svm AUC:',auc_svm)"
   ]
  },
  {
   "cell_type": "code",
   "execution_count": 114,
   "id": "76795e8e-03ab-4dae-be45-0aba2347afba",
   "metadata": {},
   "outputs": [
    {
     "name": "stdout",
     "output_type": "stream",
     "text": [
      "it 7.491445421314182e-05\n",
      "you 6.769202976173476e-05\n",
      "on 6.234477328886416e-05\n",
      "eth 5.3418313622376715e-05\n",
      "your 4.220064626300588e-05\n",
      "my 3.818160301570355e-05\n",
      "fee 3.800354375973259e-05\n",
      "do 3.7388713030142676e-05\n",
      "but 3.5745145011777486e-05\n",
      "have 3.504601818170855e-05\n"
     ]
    }
   ],
   "source": [
    "# top 10 words with highest impact in result\n",
    "ranked = np.argsort(model.coef_)[0][::-1]\n",
    "\n",
    "for i in ranked[:10]:\n",
    "    print(vectorizer.get_feature_names()[i], model.coef_[0][i])"
   ]
  },
  {
   "cell_type": "markdown",
   "id": "fdd9ca07-74c0-4c57-b685-064560c56258",
   "metadata": {},
   "source": [
    "# Baselines"
   ]
  },
  {
   "cell_type": "code",
   "execution_count": 115,
   "id": "5d7aa46d-bcd5-4bf9-a922-50fdb4a863cf",
   "metadata": {},
   "outputs": [
    {
     "name": "stdout",
     "output_type": "stream",
     "text": [
      "              precision    recall  f1-score   support\n",
      "\n",
      "        -1.0       0.00      0.00      0.00       118\n",
      "         1.0       0.58      1.00      0.73       162\n",
      "\n",
      "    accuracy                           0.58       280\n",
      "   macro avg       0.29      0.50      0.37       280\n",
      "weighted avg       0.33      0.58      0.42       280\n",
      "\n",
      "[[  0 118]\n",
      " [  0 162]]\n",
      "common AUC: 0.5\n"
     ]
    },
    {
     "name": "stderr",
     "output_type": "stream",
     "text": [
      "/Users/nelsonlim/.virtualenv/tcd_ml/lib/python3.7/site-packages/sklearn/metrics/_classification.py:1248: UndefinedMetricWarning: Precision and F-score are ill-defined and being set to 0.0 in labels with no predicted samples. Use `zero_division` parameter to control this behavior.\n",
      "  _warn_prf(average, modifier, msg_start, len(result))\n",
      "/Users/nelsonlim/.virtualenv/tcd_ml/lib/python3.7/site-packages/sklearn/metrics/_classification.py:1248: UndefinedMetricWarning: Precision and F-score are ill-defined and being set to 0.0 in labels with no predicted samples. Use `zero_division` parameter to control this behavior.\n",
      "  _warn_prf(average, modifier, msg_start, len(result))\n",
      "/Users/nelsonlim/.virtualenv/tcd_ml/lib/python3.7/site-packages/sklearn/metrics/_classification.py:1248: UndefinedMetricWarning: Precision and F-score are ill-defined and being set to 0.0 in labels with no predicted samples. Use `zero_division` parameter to control this behavior.\n",
      "  _warn_prf(average, modifier, msg_start, len(result))\n"
     ]
    }
   ],
   "source": [
    "# most frequent\n",
    "common_baseline_model = DummyClassifier(strategy=\"most_frequent\")\n",
    "common_baseline_model.fit(Xtrain, ytrain)\n",
    "common_baseline_prediction = common_baseline_model.predict(Xtest)\n",
    "print(classification_report(ytest,common_baseline_prediction))\n",
    "print(confusion_matrix(ytest,common_baseline_prediction))\n",
    "\n",
    "auc_common = roc_auc_score(ytest, common_baseline_model.predict(Xtest))\n",
    "print('common AUC:',auc_common)"
   ]
  },
  {
   "cell_type": "code",
   "execution_count": 116,
   "id": "aed3e5bf-9ceb-4502-b769-5208ae173bdf",
   "metadata": {},
   "outputs": [
    {
     "name": "stdout",
     "output_type": "stream",
     "text": [
      "              precision    recall  f1-score   support\n",
      "\n",
      "        -1.0       0.44      0.50      0.47       118\n",
      "         1.0       0.60      0.54      0.56       162\n",
      "\n",
      "    accuracy                           0.52       280\n",
      "   macro avg       0.52      0.52      0.52       280\n",
      "weighted avg       0.53      0.52      0.52       280\n",
      "\n",
      "[[59 59]\n",
      " [75 87]]\n",
      "random AUC: 0.5185185185185186\n"
     ]
    }
   ],
   "source": [
    "random_baseline_model = DummyClassifier(strategy=\"uniform\", random_state=1 )\n",
    "random_baseline_model.fit(Xtrain, ytrain)\n",
    "random_baseline_prediction = random_baseline_model.predict(Xtest)\n",
    "print(classification_report(ytest,random_baseline_prediction))\n",
    "print(confusion_matrix(ytest,random_baseline_prediction))\n",
    "\n",
    "auc_random = roc_auc_score(ytest, random_baseline_model.predict(Xtest))\n",
    "print('random AUC:',auc_random)"
   ]
  },
  {
   "cell_type": "code",
   "execution_count": 117,
   "id": "c6cfb742-1cd8-46c2-a723-9e5762c8b75f",
   "metadata": {},
   "outputs": [
    {
     "data": {
      "image/png": "[encoded data removed]",
      "text/plain": [
       "<Figure size 432x288 with 1 Axes>"
      ]
     },
     "metadata": {
      "needs_background": "light"
     },
     "output_type": "display_data"
    }
   ],
   "source": [
    "fpr_common, tpr_common, _ = roc_curve(ytest, common_baseline_model.predict(Xtest))\n",
    "fpr_random, tpr_random, _ = roc_curve(ytest, random_baseline_model.predict(Xtest))\n",
    "plt.plot(fpr_svm,tpr_svm, c='blue')\n",
    "plt.plot(fpr_common,tpr_common, c='red')\n",
    "plt.plot(fpr_random,tpr_random, c='teal')\n",
    "plt.plot([0,1],[0,1], color='green', linestyle='--')\n",
    "plt.legend(['SVM', \"Common\", \"Random\"])\n",
    "plt.xlabel('False positive rate')\n",
    "plt.ylabel('True positive rate')\n",
    "plt.savefig(os.path.join(FIGURE_DIR, \"svm_with_baselines\"),bbox_inches='tight')\n",
    "plt.show()"
   ]
  }
 ],
 "metadata": {
  "accelerator": "GPU",
  "colab": {
   "collapsed_sections": [],
   "name": "Copy of svm_notebook.ipynb",
   "provenance": []
  },
  "kernelspec": {
   "display_name": "Python 3 (ipykernel)",
   "language": "python",
   "name": "python3"
  },
  "language_info": {
   "codemirror_mode": {
    "name": "ipython",
    "version": 3
   },
   "file_extension": ".py",
   "mimetype": "text/x-python",
   "name": "python",
   "nbconvert_exporter": "python",
   "pygments_lexer": "ipython3",
   "version": "3.7.10"
  }
 },
 "nbformat": 4,
 "nbformat_minor": 5
}
