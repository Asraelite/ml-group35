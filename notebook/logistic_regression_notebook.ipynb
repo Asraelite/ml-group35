{
 "cells": [
  {
   "cell_type": "code",
   "execution_count": 60,
   "id": "40ff7b07-ab60-4463-8a50-37b76ebdf357",
   "metadata": {},
   "outputs": [
    {
     "name": "stderr",
     "output_type": "stream",
     "text": [
      "[nltk_data] Downloading package stopwords to\n",
      "[nltk_data]     /Users/nelsonlim/nltk_data...\n",
      "[nltk_data]   Package stopwords is already up-to-date!\n"
     ]
    },
    {
     "data": {
      "text/plain": [
       "True"
      ]
     },
     "execution_count": 60,
     "metadata": {},
     "output_type": "execute_result"
    }
   ],
   "source": [
    "import pandas as pd\n",
    "import os\n",
    "import numpy as np\n",
    "import nltk\n",
    "from sklearn.feature_extraction.text import CountVectorizer \n",
    "from sklearn.model_selection import train_test_split\n",
    "from sklearn.model_selection import cross_val_score\n",
    "from sklearn.model_selection import cross_validate\n",
    "from sklearn.svm import LinearSVC\n",
    "from sklearn import metrics\n",
    "from sklearn.metrics import confusion_matrix, classification_report, f1_score, roc_curve, roc_auc_score\n",
    "from sklearn.dummy import DummyClassifier\n",
    "from nltk.stem import PorterStemmer\n",
    "import matplotlib.pyplot as plt\n",
    "import re\n",
    "from collections import Counter\n",
    "from sklearn.model_selection import KFold, train_test_split\n",
    "import numpy as np\n",
    "import pickle\n",
    "from numpy.random import seed\n",
    "from sklearn.linear_model import LogisticRegression\n",
    "seed(3)\n",
    "nltk.download('stopwords')"
   ]
  },
  {
   "cell_type": "code",
   "execution_count": 28,
   "id": "cac829d3-3fc3-4c5d-b864-f1d92278d5b9",
   "metadata": {},
   "outputs": [],
   "source": [
    "# change\n",
    "BINANCE_DIR = \"/Users/nelsonlim/Documents/Trinity College Dublin/Semester 1/Machine Learning/Assignment/Week 5/data/binance/processed/day_discrete\"\n",
    "TWITTER_DIR = \"/Users/nelsonlim/Documents/Trinity College Dublin/Semester 1/Machine Learning/Assignment/Week 5/data/twitter\"\n",
    "REDDIT_DIR = \"/Users/nelsonlim/Documents/Trinity College Dublin/Semester 1/Machine Learning/Assignment/Week 5/data/reddit\"\n",
    "\n",
    "TWITTER_FILE = \"twitter.csv\"\n",
    "REDDIT_FILE  = \"reddit.csv\"\n",
    "BINANCE_FILE = None\n",
    "\n",
    "FIGURE_DIR = \"/Users/nelsonlim/Documents/Trinity College Dublin/Semester 1/Machine Learning/Assignment/Week 5/notebook/img\"\n",
    "SAVE_FIG = False\n",
    "\n",
    "# SAVED MODELS & VARIABLES\n",
    "COUNT_VECTORISER_FILE = \"/Users/nelsonlim/Documents/Trinity College Dublin/Semester 1/Machine Learning/Assignment/Week 5/data/count_vectoriser.pkl\" # x\n",
    "COUNT_VECTORISER_VAR_FILE = \"/Users/nelsonlim/Documents/Trinity College Dublin/Semester 1/Machine Learning/Assignment/Week 5/data/count_vectoriser_var.pkl\" # vectorizer data\n",
    "SVM_FILE = \"/Users/nelsonlim/Documents/Trinity College Dublin/Semester 1/Machine Learning/Assignment/Week 5/data/SVM_model.pkl\"\n",
    "KNN_MODELS_CV_K = \"/Users/nelsonlim/Documents/Trinity College Dublin/Semester 1/Machine Learning/Assignment/Week 5/data/KNN_models_cv_k.pkl\"\n",
    "KNN_FILE = \"/Users/nelsonlim/Documents/Trinity College Dublin/Semester 1/Machine Learning/Assignment/Week 5/data/KNN_model.pkl\"\n",
    "\n",
    "LOGISTIC_FILE = \"/Users/nelsonlim/Documents/Trinity College Dublin/Semester 1/Machine Learning/Assignment/Week 5/data/Logistic_model.pkl\"\n",
    "LOGISTIC_MODELS_CV_C = \"/Users/nelsonlim/Documents/Trinity College Dublin/Semester 1/Machine Learning/Assignment/Week 5/data/logistic_models_cv_c.pkl\"\n",
    "\n",
    "# dont change\n",
    "BINANCE_EXTENSION = \"csv\"\n",
    "\n",
    "START_DATE = \"2018-01-01\"\n",
    "END_DATE = \"2021-10-31\""
   ]
  },
  {
   "cell_type": "code",
   "execution_count": 3,
   "id": "386f723c-21d9-490f-94da-cd19b373ea71",
   "metadata": {},
   "outputs": [],
   "source": [
    "def concatenate_content_values(content_list):\n",
    "\treturn content_list.str.cat(sep=\" \")"
   ]
  },
  {
   "cell_type": "markdown",
   "id": "70f641d6-a12b-40cd-b259-e27f2e814630",
   "metadata": {},
   "source": [
    "# Dataset"
   ]
  },
  {
   "cell_type": "markdown",
   "id": "d3fd83bf-2be9-406d-a2e3-912112b8c309",
   "metadata": {},
   "source": [
    "## Binance"
   ]
  },
  {
   "cell_type": "code",
   "execution_count": 4,
   "id": "a8562290-3bdd-48d9-8435-865419a80d45",
   "metadata": {},
   "outputs": [],
   "source": [
    "if BINANCE_FILE is None:\n",
    "    # load binance data\n",
    "    df_binance_list = []\n",
    "    for filename in sorted(os.listdir(BINANCE_DIR)):\n",
    "        if filename.endswith(BINANCE_EXTENSION):\n",
    "            df_binance_list.append(pd.read_csv( os.path.join(BINANCE_DIR,filename)))\n",
    "    df_binance = pd.concat(df_binance_list,ignore_index=True)\n",
    "\n",
    "    # convert time to date obj\n",
    "    df_binance['time'] = pd.to_datetime(df_binance['time'])\n",
    "\n",
    "    # change index to time\n",
    "    df_binance = df_binance.set_index('time')\n",
    "\n",
    "    # filter date range\n",
    "    df_binance = df_binance.loc[START_DATE:END_DATE]\n",
    "else:    \n",
    "    # load binance data\n",
    "    df_binance = pd.read_csv(  os.path.join(BINANCE_DIR, BINANCE_FILE), lineterminator='\\n' )\n",
    "\n",
    "    # convert time to date obj\n",
    "    df_binance['time'] = pd.to_datetime(df_binance['time'])\n",
    "\n",
    "    # change index to time\n",
    "    df_binance = df_binance.set_index('time')\n",
    "\n",
    "    # filter date range\n",
    "    df_binance = df_binance.loc[START_DATE:END_DATE]"
   ]
  },
  {
   "cell_type": "code",
   "execution_count": 5,
   "id": "99999d16-e07b-41fc-a554-229823ac5568",
   "metadata": {},
   "outputs": [],
   "source": [
    "price_mean = df_binance['price_mean']\n",
    "binance_time = df_binance.index.strftime(\"%m/%d/%y\").values\n",
    "plot_x = range(len(binance_time))"
   ]
  },
  {
   "cell_type": "code",
   "execution_count": 6,
   "id": "192fb2be-e8e9-4e21-bf0f-d5c4c5dcc390",
   "metadata": {},
   "outputs": [
    {
     "data": {
      "image/png": "[encoded data removed]",
      "text/plain": [
       "<Figure size 432x288 with 1 Axes>"
      ]
     },
     "metadata": {
      "needs_background": "light"
     },
     "output_type": "display_data"
    }
   ],
   "source": [
    "plt.plot(plot_x, price_mean)   \n",
    "plt.legend(['Ethereum'])\n",
    "plt.xlabel(\"Data Point\")\n",
    "plt.ylabel(\"Mean Price\")\n",
    "if SAVE_FIG:\n",
    "    plt.savefig(os.path.join(FIGURE_DIR,\"binance_mean_price\"))\n",
    "plt.show()    "
   ]
  },
  {
   "cell_type": "code",
   "execution_count": 7,
   "id": "e91ace65-2cce-4a40-9411-4cbba5bf55bb",
   "metadata": {},
   "outputs": [
    {
     "data": {
      "image/png": "[encoded data removed]",
      "text/plain": [
       "<Figure size 432x288 with 1 Axes>"
      ]
     },
     "metadata": {
      "needs_background": "light"
     },
     "output_type": "display_data"
    }
   ],
   "source": [
    "labels = Counter(df_binance['label'].values)\n",
    "labels_keys = list(labels.keys())\n",
    "labels_values = list(labels.values())\n",
    "\n",
    "plt.bar(labels_keys, labels_values)\n",
    "plt.xticks(labels_keys)\n",
    "plt.legend(['Ethereum'])\n",
    "plt.xlabel(\"Label\")\n",
    "plt.ylabel(\"Count\")\n",
    "if SAVE_FIG:\n",
    "    plt.savefig(os.path.join(FIGURE_DIR,\"binance_label\"))\n",
    "plt.show()"
   ]
  },
  {
   "cell_type": "markdown",
   "id": "183268b0-e33a-4e7e-bd3a-a4940040b963",
   "metadata": {},
   "source": [
    "## Reddit"
   ]
  },
  {
   "cell_type": "code",
   "execution_count": 8,
   "id": "7c7d6f83-239d-42b2-b883-2e11cb0a7479",
   "metadata": {},
   "outputs": [],
   "source": [
    "# read reddit\n",
    "df_reddit = pd.read_csv(  os.path.join(REDDIT_DIR, REDDIT_FILE), lineterminator='\\n' )\n",
    "\n",
    "# convert to date obj\n",
    "df_reddit['date'] = pd.to_datetime(df_reddit['date'])\n",
    "\n",
    "# Join all reddit posts for each day into one big string\n",
    "df_reddit = df_reddit.groupby(\"date\").aggregate({\n",
    "    \"content\": concatenate_content_values,\n",
    "    \"popularity\" : \"sum\"\n",
    "})\n",
    "\n",
    "# filter date range\n",
    "df_reddit = df_reddit.loc[START_DATE:END_DATE]"
   ]
  },
  {
   "cell_type": "markdown",
   "id": "6b040f89-8640-49a1-869d-2a5bd30ae67a",
   "metadata": {},
   "source": [
    "## Twitter"
   ]
  },
  {
   "cell_type": "code",
   "execution_count": 9,
   "id": "ea242778-6991-4d6b-b4a7-327c74afe79e",
   "metadata": {},
   "outputs": [],
   "source": [
    "# load twitter data\n",
    "df_twitter = pd.read_csv( os.path.join(TWITTER_DIR, TWITTER_FILE), lineterminator=\"\\n\")\n",
    "\n",
    "# convert to date obj\n",
    "df_twitter['date'] = pd.to_datetime(df_twitter['date'])\n",
    "\n",
    "# Join all tweets for each day into one big string\n",
    "df_twitter = df_twitter.groupby(\"date\").aggregate({\n",
    "    \"content\": concatenate_content_values,\n",
    "    \"popularity\" : \"sum\"\n",
    "})\n",
    "\n",
    "# filter date range\n",
    "df_twitter = df_twitter.loc[START_DATE:END_DATE]"
   ]
  },
  {
   "cell_type": "code",
   "execution_count": 10,
   "id": "f20efa98-0f4d-4e2c-a55b-2e7c52a62fbd",
   "metadata": {},
   "outputs": [],
   "source": [
    "input_data = pd.concat([df_reddit,df_twitter]).groupby(\"date\").aggregate({\n",
    "    \"content\": concatenate_content_values,\n",
    "    \"popularity\" : \"sum\"\n",
    "})"
   ]
  },
  {
   "cell_type": "code",
   "execution_count": 11,
   "id": "a29f9afa-d539-437f-9c01-5538872a49c4",
   "metadata": {},
   "outputs": [],
   "source": [
    "daily_content = input_data.content"
   ]
  },
  {
   "cell_type": "markdown",
   "id": "d73ccf3a-2aa6-43f9-b15e-8e93a473d291",
   "metadata": {},
   "source": [
    "# Preprocess Data"
   ]
  },
  {
   "cell_type": "code",
   "execution_count": 13,
   "id": "48eee53d-95dd-4267-b3a4-2a3cecfa83be",
   "metadata": {},
   "outputs": [
    {
     "data": {
      "text/plain": [
       "0"
      ]
     },
     "execution_count": 13,
     "metadata": {},
     "output_type": "execute_result"
    }
   ],
   "source": [
    "# check if there exist any empty column\n",
    "daily_content.isna().sum()"
   ]
  },
  {
   "cell_type": "markdown",
   "id": "54c4eca6-5645-4077-84e4-25eb032afa6a",
   "metadata": {},
   "source": [
    "## Prunning"
   ]
  },
  {
   "cell_type": "code",
   "execution_count": 14,
   "id": "78c1ee2a-c72e-4cc1-874b-3ee63299ab28",
   "metadata": {},
   "outputs": [],
   "source": [
    "stemmer = PorterStemmer()\n",
    "\n",
    "# Adding stemmming with CountVectorizer\n",
    "# https://stackoverflow.com/questions/36182502/add-stemming-support-to-countvectorizer-sklearn\n",
    "analyzer = CountVectorizer().build_analyzer()\n",
    "def stemmed_words(doc):\n",
    "    words = []\n",
    "    for w in analyzer(doc):\n",
    "        \n",
    "        # remove words with number\n",
    "        if len(re.findall('\\d+', w)) > 0:\n",
    "            continue\n",
    "        \n",
    "        # only english letters\n",
    "        w=re.sub('[^a-zA-Z]','',w)    \n",
    "        if w == '':\n",
    "            continue\n",
    "        \n",
    "        # stemming \n",
    "        stemmed_word = stemmer.stem(w)\n",
    "        \n",
    "        words.append(stemmed_word)\n",
    "    return words"
   ]
  },
  {
   "cell_type": "code",
   "execution_count": 15,
   "id": "0831d700-8ea0-44f7-bae3-b1153d69f507",
   "metadata": {},
   "outputs": [],
   "source": [
    "# read\n",
    "with open(COUNT_VECTORISER_VAR_FILE, 'rb') as f:\n",
    "    vectorizer = pickle.load(f)"
   ]
  },
  {
   "cell_type": "code",
   "execution_count": 16,
   "id": "0c42e371-8df3-4fc3-80a1-1d73d2ee058b",
   "metadata": {},
   "outputs": [],
   "source": [
    "# read\n",
    "with open(COUNT_VECTORISER_FILE, 'rb') as f:\n",
    "    x = pickle.load(f)"
   ]
  },
  {
   "cell_type": "code",
   "execution_count": null,
   "id": "b114b981-5db1-468a-b6cc-dd3c34e42441",
   "metadata": {},
   "outputs": [],
   "source": [
    "# prunning\n",
    "vectorizer = CountVectorizer(\n",
    "    ngram_range=(1, 1),\n",
    "    stop_words=nltk.corpus.stopwords.words(\"english\"),\n",
    "    min_df=0.1,\n",
    "    max_df=1.0,\n",
    "    analyzer=stemmed_words\n",
    ")\n",
    "\n",
    "x = vectorizer.fit_transform(daily_content)\n",
    "\n",
    "# write\n",
    "with open(COUNT_VECTORISER_VAR_FILE, 'wb') as fout:\n",
    "    pickle.dump(vectorizer, fout)\n",
    "    \n",
    "# write\n",
    "with open(COUNT_VECTORISER_FILE, 'wb') as fout:\n",
    "    pickle.dump(x, fout)"
   ]
  },
  {
   "cell_type": "code",
   "execution_count": 17,
   "id": "e7f6b0f4-f70a-44ca-bd12-f3a2589f0ee3",
   "metadata": {},
   "outputs": [
    {
     "name": "stdout",
     "output_type": "stream",
     "text": [
      "7176 features\n"
     ]
    }
   ],
   "source": [
    "print(f\"{len(vectorizer.get_feature_names())} features\")"
   ]
  },
  {
   "cell_type": "code",
   "execution_count": 18,
   "id": "591a67ba-48a9-411e-8fee-18d2a82790c7",
   "metadata": {},
   "outputs": [],
   "source": [
    "y = df_binance.label"
   ]
  },
  {
   "cell_type": "markdown",
   "id": "3993b007-d267-4b5a-85fa-09f51451ad96",
   "metadata": {},
   "source": [
    "## Training"
   ]
  },
  {
   "cell_type": "code",
   "execution_count": 19,
   "id": "3178dd3a-c0d1-4c28-8a32-8f55b53fafdb",
   "metadata": {},
   "outputs": [],
   "source": [
    "y[y == 0] = 1"
   ]
  },
  {
   "cell_type": "code",
   "execution_count": 20,
   "id": "6a9ed784-d89f-4d4d-bde1-178e552f36e1",
   "metadata": {},
   "outputs": [],
   "source": [
    "Xtrain, Xtest, ytrain, ytest = train_test_split(x,y,test_size=0.2)"
   ]
  },
  {
   "cell_type": "code",
   "execution_count": 79,
   "id": "ebc7003e-408e-4557-99ed-43efd18de0c2",
   "metadata": {},
   "outputs": [
    {
     "name": "stdout",
     "output_type": "stream",
     "text": [
      "[1.00e-10 5.10e-09 1.01e-08 1.51e-08 2.01e-08 2.51e-08 3.01e-08 3.51e-08\n",
      " 4.01e-08 4.51e-08 5.01e-08 5.51e-08 6.01e-08 6.51e-08 7.01e-08 7.51e-08\n",
      " 8.01e-08 8.51e-08 9.01e-08 9.51e-08]\n"
     ]
    }
   ],
   "source": [
    "logistic_model = []\n",
    "mean_error = []\n",
    "std_error = []\n",
    "f1_train = []\n",
    "Ci_range = np.arange(0.0000000001, 0.0000001, 0.000000005)\n",
    "print(Ci_range)\n",
    "\n",
    "for index, Ci in enumerate(Ci_range):    \n",
    "    # 5 fold cross validation\n",
    "    logistic_model.append( LogisticRegression(C=Ci, dual=False, max_iter=10000, penalty='l2') )\n",
    "    scores = cross_validate(logistic_model[index], Xtrain, ytrain, cv=5, scoring='f1',return_train_score=True)\n",
    "    test_score = scores['test_score']\n",
    "    train_score = scores['train_score']    \n",
    "    mean_error.append(np.array(test_score).mean())\n",
    "    std_error.append(np.array(test_score).std())\n",
    "    f1_train.append(np.array(train_score).mean())"
   ]
  },
  {
   "cell_type": "code",
   "execution_count": 80,
   "id": "f2f38997-eb98-4230-8b84-b422f620dcc4",
   "metadata": {},
   "outputs": [
    {
     "data": {
      "image/png": "[encoded data removed]",
      "text/plain": [
       "<Figure size 432x288 with 1 Axes>"
      ]
     },
     "metadata": {
      "needs_background": "light"
     },
     "output_type": "display_data"
    }
   ],
   "source": [
    "plt.plot(Ci_range, f1_train)    \n",
    "plt.errorbar(Ci_range,mean_error,yerr=std_error,linewidth=3)\n",
    "plt.legend(['Train data','Test data'])\n",
    "plt.xlabel('Ci')\n",
    "plt.ylabel('F1 Score')\n",
    "plt.savefig(os.path.join(FIGURE_DIR,\"logistic_cv_ci\"))\n",
    "plt.show()"
   ]
  },
  {
   "cell_type": "code",
   "execution_count": 81,
   "id": "f893fc02-b225-4ef3-a0a7-74a44591e6ff",
   "metadata": {},
   "outputs": [],
   "source": [
    "# write\n",
    "with open(LOGISTIC_MODELS_CV_C, 'wb') as fout:\n",
    "    pickle.dump(logistic_model, fout)"
   ]
  },
  {
   "cell_type": "code",
   "execution_count": 101,
   "id": "8ccbbc83-2b06-433f-8936-1272ade76e10",
   "metadata": {},
   "outputs": [],
   "source": [
    "FIXED_C = 0.0000000351\n",
    "\n",
    "model =  LogisticRegression(C=FIXED_C, dual=False, max_iter=10000, penalty='l2')\n",
    "model.fit(Xtrain,ytrain)\n",
    "\n",
    "# write\n",
    "with open(LOGISTIC_FILE, 'wb') as fout:\n",
    "    pickle.dump(model, fout)"
   ]
  },
  {
   "cell_type": "code",
   "execution_count": 102,
   "id": "e55c3d9c-5dc1-4c07-9e13-e8e79902cb60",
   "metadata": {},
   "outputs": [
    {
     "name": "stdout",
     "output_type": "stream",
     "text": [
      "              precision    recall  f1-score   support\n",
      "\n",
      "        -1.0       0.80      0.10      0.18       118\n",
      "         1.0       0.60      0.98      0.74       162\n",
      "\n",
      "    accuracy                           0.61       280\n",
      "   macro avg       0.70      0.54      0.46       280\n",
      "weighted avg       0.68      0.61      0.51       280\n",
      "\n",
      "[[ 12 106]\n",
      " [  3 159]]\n"
     ]
    }
   ],
   "source": [
    "ypred = model.predict(Xtest)\n",
    "print(classification_report(ytest,ypred))\n",
    "print(confusion_matrix(ytest,ypred))"
   ]
  },
  {
   "cell_type": "code",
   "execution_count": 103,
   "id": "b220212f-4ed6-4005-a246-aad30640b678",
   "metadata": {},
   "outputs": [
    {
     "data": {
      "image/png": "[encoded data removed]",
      "text/plain": [
       "<Figure size 432x288 with 1 Axes>"
      ]
     },
     "metadata": {
      "needs_background": "light"
     },
     "output_type": "display_data"
    }
   ],
   "source": [
    "fpr_logistic, tpr_logistic, _ = roc_curve(ytest, model.decision_function(Xtest))\n",
    "plt.plot(fpr_logistic,tpr_logistic)\n",
    "plt.plot([0,1],[0,1], color='green', linestyle='--')\n",
    "plt.legend(['SVM'])\n",
    "plt.savefig(os.path.join(FIGURE_DIR, \"roc_logistic\"),bbox_inches='tight')\n",
    "plt.show()"
   ]
  },
  {
   "cell_type": "code",
   "execution_count": 104,
   "id": "a23edd77-0223-4902-9dff-a60403ea40b4",
   "metadata": {},
   "outputs": [
    {
     "name": "stdout",
     "output_type": "stream",
     "text": [
      "logistic regression AUC: 0.5776313036200043\n"
     ]
    }
   ],
   "source": [
    "auc_logistic = roc_auc_score(ytest, model.decision_function(Xtest))\n",
    "print('logistic regression AUC:',auc_logistic)"
   ]
  },
  {
   "cell_type": "code",
   "execution_count": 97,
   "id": "d30488a5-8027-4865-9b42-e6cf14a73079",
   "metadata": {},
   "outputs": [
    {
     "name": "stdout",
     "output_type": "stream",
     "text": [
      "it 8.317472462748905e-05\n",
      "you 7.657944491518469e-05\n",
      "on 6.0513980833595267e-05\n",
      "eth 5.181916978058576e-05\n",
      "your 4.3936587382321534e-05\n",
      "my 4.086792667514224e-05\n",
      "but 3.694924509703498e-05\n",
      "do 3.6562660361220865e-05\n",
      "fee 3.649376339418038e-05\n",
      "have 3.568218776436442e-05\n"
     ]
    }
   ],
   "source": [
    "# top 10 words with highest impact in result\n",
    "ranked = np.argsort(model.coef_)[0][::-1]\n",
    "\n",
    "for i in ranked[:10]:\n",
    "    print(vectorizer.get_feature_names()[i], model.coef_[0][i])"
   ]
  },
  {
   "cell_type": "markdown",
   "id": "c1b5c061-6379-4a43-b3df-13caa60d595c",
   "metadata": {},
   "source": [
    "# Baselines"
   ]
  },
  {
   "cell_type": "code",
   "execution_count": 98,
   "id": "d7975442-e8d9-42ff-847a-5a014d10e0e7",
   "metadata": {},
   "outputs": [
    {
     "name": "stdout",
     "output_type": "stream",
     "text": [
      "              precision    recall  f1-score   support\n",
      "\n",
      "        -1.0       0.00      0.00      0.00       118\n",
      "         1.0       0.58      1.00      0.73       162\n",
      "\n",
      "    accuracy                           0.58       280\n",
      "   macro avg       0.29      0.50      0.37       280\n",
      "weighted avg       0.33      0.58      0.42       280\n",
      "\n",
      "[[  0 118]\n",
      " [  0 162]]\n",
      "common AUC: 0.5\n"
     ]
    },
    {
     "name": "stderr",
     "output_type": "stream",
     "text": [
      "/Users/nelsonlim/.virtualenv/tcd_ml/lib/python3.7/site-packages/sklearn/metrics/_classification.py:1248: UndefinedMetricWarning: Precision and F-score are ill-defined and being set to 0.0 in labels with no predicted samples. Use `zero_division` parameter to control this behavior.\n",
      "  _warn_prf(average, modifier, msg_start, len(result))\n",
      "/Users/nelsonlim/.virtualenv/tcd_ml/lib/python3.7/site-packages/sklearn/metrics/_classification.py:1248: UndefinedMetricWarning: Precision and F-score are ill-defined and being set to 0.0 in labels with no predicted samples. Use `zero_division` parameter to control this behavior.\n",
      "  _warn_prf(average, modifier, msg_start, len(result))\n",
      "/Users/nelsonlim/.virtualenv/tcd_ml/lib/python3.7/site-packages/sklearn/metrics/_classification.py:1248: UndefinedMetricWarning: Precision and F-score are ill-defined and being set to 0.0 in labels with no predicted samples. Use `zero_division` parameter to control this behavior.\n",
      "  _warn_prf(average, modifier, msg_start, len(result))\n"
     ]
    }
   ],
   "source": [
    "# most frequent\n",
    "common_baseline_model = DummyClassifier(strategy=\"most_frequent\")\n",
    "common_baseline_model.fit(Xtrain, ytrain)\n",
    "common_baseline_prediction = common_baseline_model.predict(Xtest)\n",
    "print(classification_report(ytest,common_baseline_prediction))\n",
    "print(confusion_matrix(ytest,common_baseline_prediction))\n",
    "\n",
    "auc_common = roc_auc_score(ytest, common_baseline_model.predict(Xtest))\n",
    "print('common AUC:',auc_common)"
   ]
  },
  {
   "cell_type": "code",
   "execution_count": 99,
   "id": "417dc6a7-cd59-4c20-bc3a-e70c7ac42b9d",
   "metadata": {},
   "outputs": [
    {
     "name": "stdout",
     "output_type": "stream",
     "text": [
      "              precision    recall  f1-score   support\n",
      "\n",
      "        -1.0       0.44      0.50      0.47       118\n",
      "         1.0       0.60      0.54      0.56       162\n",
      "\n",
      "    accuracy                           0.52       280\n",
      "   macro avg       0.52      0.52      0.52       280\n",
      "weighted avg       0.53      0.52      0.52       280\n",
      "\n",
      "[[59 59]\n",
      " [75 87]]\n",
      "random AUC: 0.5185185185185186\n"
     ]
    }
   ],
   "source": [
    "random_baseline_model = DummyClassifier(strategy=\"uniform\", random_state=1 )\n",
    "random_baseline_model.fit(Xtrain, ytrain)\n",
    "random_baseline_prediction = random_baseline_model.predict(Xtest)\n",
    "print(classification_report(ytest,random_baseline_prediction))\n",
    "print(confusion_matrix(ytest,random_baseline_prediction))\n",
    "\n",
    "auc_random = roc_auc_score(ytest, random_baseline_model.predict(Xtest))\n",
    "print('random AUC:',auc_random)"
   ]
  },
  {
   "cell_type": "code",
   "execution_count": 100,
   "id": "03c43ae9-e076-4f29-99ca-c38679045166",
   "metadata": {},
   "outputs": [
    {
     "data": {
      "image/png": "[encoded data removed]",
      "text/plain": [
       "<Figure size 432x288 with 1 Axes>"
      ]
     },
     "metadata": {
      "needs_background": "light"
     },
     "output_type": "display_data"
    }
   ],
   "source": [
    "fpr_common, tpr_common, _ = roc_curve(ytest, common_baseline_model.predict(Xtest))\n",
    "fpr_random, tpr_random, _ = roc_curve(ytest, random_baseline_model.predict(Xtest))\n",
    "plt.plot(fpr_logistic,tpr_logistic, c='blue')\n",
    "plt.plot(fpr_common,tpr_common, c='red')\n",
    "plt.plot(fpr_random,tpr_random, c='teal')\n",
    "plt.plot([0,1],[0,1], color='green', linestyle='--')\n",
    "plt.legend(['Logistic', \"Common\", \"Random\"])\n",
    "plt.xlabel('False positive rate')\n",
    "plt.ylabel('True positive rate')\n",
    "plt.savefig(os.path.join(FIGURE_DIR, \"logistic_with_baselines\"),bbox_inches='tight')\n",
    "plt.show()"
   ]
  },
  {
   "cell_type": "code",
   "execution_count": null,
   "id": "c6085a14-22e9-43de-9d96-f357f23074ae",
   "metadata": {},
   "outputs": [],
   "source": []
  }
 ],
 "metadata": {
  "kernelspec": {
   "display_name": "Python 3 (ipykernel)",
   "language": "python",
   "name": "python3"
  },
  "language_info": {
   "codemirror_mode": {
    "name": "ipython",
    "version": 3
   },
   "file_extension": ".py",
   "mimetype": "text/x-python",
   "name": "python",
   "nbconvert_exporter": "python",
   "pygments_lexer": "ipython3",
   "version": "3.7.10"
  }
 },
 "nbformat": 4,
 "nbformat_minor": 5
}
